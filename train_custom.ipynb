{
 "cells": [
  {
   "cell_type": "code",
   "execution_count": 2,
   "metadata": {},
   "outputs": [],
   "source": [
    "import matplotlib.pyplot as plt\n",
    "import os, glob, cv2, random\n",
    "import seaborn as sns\n",
    "import pandas as pd\n",
    "from PIL import Image\n",
    "import tensorflow as tf\n",
    "from tensorflow import keras\n",
    "import numpy as np"
   ]
  },
  {
   "cell_type": "code",
   "execution_count": 3,
   "metadata": {},
   "outputs": [
    {
     "ename": "UnidentifiedImageError",
     "evalue": "cannot identify image file './dataset/x_train.npy'",
     "output_type": "error",
     "traceback": [
      "\u001b[1;31m---------------------------------------------------------------------------\u001b[0m",
      "\u001b[1;31mUnidentifiedImageError\u001b[0m                    Traceback (most recent call last)",
      "\u001b[1;32m<ipython-input-3-700b316a20bd>\u001b[0m in \u001b[0;36m<module>\u001b[1;34m\u001b[0m\n\u001b[0;32m      7\u001b[0m \u001b[0mcategories\u001b[0m\u001b[1;33m=\u001b[0m\u001b[1;33m[\u001b[0m\u001b[1;33m]\u001b[0m\u001b[1;33m\u001b[0m\u001b[1;33m\u001b[0m\u001b[0m\n\u001b[0;32m      8\u001b[0m \u001b[1;32mfor\u001b[0m \u001b[0mfilename\u001b[0m \u001b[1;32min\u001b[0m \u001b[0mfilenames\u001b[0m\u001b[1;33m:\u001b[0m\u001b[1;33m\u001b[0m\u001b[1;33m\u001b[0m\u001b[0m\n\u001b[1;32m----> 9\u001b[1;33m     \u001b[0mimage\u001b[0m \u001b[1;33m=\u001b[0m \u001b[0mImage\u001b[0m\u001b[1;33m.\u001b[0m\u001b[0mopen\u001b[0m\u001b[1;33m(\u001b[0m\u001b[0mpath\u001b[0m \u001b[1;33m+\u001b[0m \u001b[0mfilename\u001b[0m\u001b[1;33m)\u001b[0m\u001b[1;33m\u001b[0m\u001b[1;33m\u001b[0m\u001b[0m\n\u001b[0m\u001b[0;32m     10\u001b[0m \u001b[1;33m\u001b[0m\u001b[0m\n\u001b[0;32m     11\u001b[0m     \u001b[0mimage\u001b[0m \u001b[1;33m=\u001b[0m \u001b[0mnp\u001b[0m\u001b[1;33m.\u001b[0m\u001b[0marray\u001b[0m\u001b[1;33m(\u001b[0m\u001b[0mimage\u001b[0m\u001b[1;33m)\u001b[0m\u001b[1;33m\u001b[0m\u001b[1;33m\u001b[0m\u001b[0m\n",
      "\u001b[1;32mC:\\Users\\Public\\anaconda\\lib\\site-packages\\PIL\\Image.py\u001b[0m in \u001b[0;36mopen\u001b[1;34m(fp, mode)\u001b[0m\n\u001b[0;32m   2928\u001b[0m     \u001b[1;32mfor\u001b[0m \u001b[0mmessage\u001b[0m \u001b[1;32min\u001b[0m \u001b[0maccept_warnings\u001b[0m\u001b[1;33m:\u001b[0m\u001b[1;33m\u001b[0m\u001b[1;33m\u001b[0m\u001b[0m\n\u001b[0;32m   2929\u001b[0m         \u001b[0mwarnings\u001b[0m\u001b[1;33m.\u001b[0m\u001b[0mwarn\u001b[0m\u001b[1;33m(\u001b[0m\u001b[0mmessage\u001b[0m\u001b[1;33m)\u001b[0m\u001b[1;33m\u001b[0m\u001b[1;33m\u001b[0m\u001b[0m\n\u001b[1;32m-> 2930\u001b[1;33m     raise UnidentifiedImageError(\n\u001b[0m\u001b[0;32m   2931\u001b[0m         \u001b[1;34m\"cannot identify image file %r\"\u001b[0m \u001b[1;33m%\u001b[0m \u001b[1;33m(\u001b[0m\u001b[0mfilename\u001b[0m \u001b[1;32mif\u001b[0m \u001b[0mfilename\u001b[0m \u001b[1;32melse\u001b[0m \u001b[0mfp\u001b[0m\u001b[1;33m)\u001b[0m\u001b[1;33m\u001b[0m\u001b[1;33m\u001b[0m\u001b[0m\n\u001b[0;32m   2932\u001b[0m     )\n",
      "\u001b[1;31mUnidentifiedImageError\u001b[0m: cannot identify image file './dataset/x_train.npy'"
     ]
    }
   ],
   "source": [
    "path = \"./dataset/\"\n",
    "\n",
    "# 학습 데이터 준비 \n",
    "filenames = os.listdir(path)\n",
    "X=[]\n",
    "y=[]\n",
    "categories=[]\n",
    "for filename in filenames:\n",
    "    image = Image.open(path + filename)\n",
    "    \n",
    "    image = np.array(image)\n",
    "    X.append(image)\n",
    "    category=filename.split(\"_\")[0]\n",
    "    if category ==\"close\":\n",
    "        y.append([0])\n",
    "    else:\n",
    "        y.append([1])"
   ]
  },
  {
   "cell_type": "code",
   "execution_count": null,
   "metadata": {},
   "outputs": [],
   "source": [
    "X = np.array(X)\n",
    "y = np.array(y)"
   ]
  },
  {
   "cell_type": "code",
   "execution_count": null,
   "metadata": {},
   "outputs": [],
   "source": [
    "X.shape, y.shape"
   ]
  },
  {
   "cell_type": "code",
   "execution_count": null,
   "metadata": {},
   "outputs": [],
   "source": [
    "n_total = len(X)\n",
    "X_result = np.empty((n_total, 26, 34,1))"
   ]
  },
  {
   "cell_type": "code",
   "execution_count": null,
   "metadata": {},
   "outputs": [],
   "source": [
    "for i, x in enumerate(X):\n",
    "    img = x.reshape((26, 34,1))\n",
    "    \n",
    "    X_result[i] = img"
   ]
  },
  {
   "cell_type": "code",
   "execution_count": null,
   "metadata": {},
   "outputs": [],
   "source": [
    "from sklearn.model_selection import train_test_split\n",
    "\n",
    "x_train, x_val, y_train, y_val = train_test_split(X_result, y, test_size=0.1)\n",
    "\n",
    "print(x_train.shape, y_train.shape)\n",
    "print(x_val.shape, y_val.shape)\n",
    "\n",
    "np.save('dataset/x_train.npy', x_train)\n",
    "np.save('dataset/y_train.npy', y_train)\n",
    "np.save('dataset/x_val.npy', x_val)\n",
    "np.save('dataset/y_val.npy', y_val)"
   ]
  },
  {
   "cell_type": "code",
   "execution_count": null,
   "metadata": {},
   "outputs": [],
   "source": [
    "plt.subplot(2, 1, 1)\n",
    "plt.title(str(y_train[0]))\n",
    "plt.imshow(x_train[0].reshape((26, 34)), cmap='gray')\n",
    "plt.subplot(2, 1, 2)\n",
    "plt.title(str(y_val[3]))\n",
    "plt.imshow(x_val[3].reshape((26, 34)), cmap='gray')"
   ]
  },
  {
   "cell_type": "code",
   "execution_count": null,
   "metadata": {},
   "outputs": [],
   "source": [
    "sns.distplot(y_train, kde=False)"
   ]
  },
  {
   "cell_type": "code",
   "execution_count": null,
   "metadata": {},
   "outputs": [],
   "source": [
    "sns.distplot(y_val, kde=False)"
   ]
  },
  {
   "cell_type": "code",
   "execution_count": 24,
   "metadata": {},
   "outputs": [],
   "source": [
    "import datetime\n",
    "import numpy as np\n",
    "import matplotlib.pyplot as plt\n",
    "from keras.layers import Input, Activation, Conv2D, Flatten, Dense, MaxPooling2D\n",
    "from keras.models import Model, load_model\n",
    "from keras.preprocessing.image import ImageDataGenerator\n",
    "from keras.callbacks import ModelCheckpoint, ReduceLROnPlateau\n",
    "plt.style.use('dark_background')"
   ]
  },
  {
   "cell_type": "code",
   "execution_count": 18,
   "metadata": {},
   "outputs": [
    {
     "name": "stdout",
     "output_type": "stream",
     "text": [
      "(75, 26, 34, 1) (75, 1)\n",
      "(9, 26, 34, 1) (9, 1)\n"
     ]
    }
   ],
   "source": [
    "x_train2 = np.load('dataset/x_train.npy').astype(np.float32)\n",
    "y_train2 = np.load('dataset/y_train.npy').astype(np.float32)\n",
    "x_val2 = np.load('dataset/x_val.npy').astype(np.float32)\n",
    "y_val2 = np.load('dataset/y_val.npy').astype(np.float32)\n",
    "\n",
    "print(x_train2.shape, y_train2.shape)\n",
    "print(x_val2.shape, y_val2.shape)"
   ]
  },
  {
   "cell_type": "code",
   "execution_count": 19,
   "metadata": {},
   "outputs": [
    {
     "name": "stdout",
     "output_type": "stream",
     "text": [
      "(2586, 26, 34, 1) (2586, 1)\n",
      "(288, 26, 34, 1) (288, 1)\n"
     ]
    }
   ],
   "source": [
    "x_train1 = np.load('make_model/dataset/x_train.npy').astype(np.float32)\n",
    "y_train1 = np.load('make_model/dataset/y_train.npy').astype(np.float32)\n",
    "x_val1 = np.load('make_model/dataset/x_val.npy').astype(np.float32)\n",
    "y_val1 = np.load('make_model/dataset/y_val.npy').astype(np.float32)\n",
    "\n",
    "print(x_train1.shape, y_train1.shape)\n",
    "print(x_val1.shape, y_val1.shape)"
   ]
  },
  {
   "cell_type": "code",
   "execution_count": 21,
   "metadata": {},
   "outputs": [
    {
     "name": "stdout",
     "output_type": "stream",
     "text": [
      "(2661, 26, 34, 1) (2661, 1)\n",
      "(297, 26, 34, 1) (297, 1)\n"
     ]
    }
   ],
   "source": [
    "x_train = np.concatenate((x_train1,x_train2),axis=0)\n",
    "y_train = np.concatenate((y_train1,y_train2),axis=0)\n",
    "x_val = np.concatenate((x_val1,x_val2),axis=0)\n",
    "y_val = np.concatenate((y_val1,y_val2),axis=0)\n",
    "\n",
    "print(x_train.shape, y_train.shape)\n",
    "print(x_val.shape, y_val.shape)"
   ]
  },
  {
   "cell_type": "code",
   "execution_count": 22,
   "metadata": {},
   "outputs": [
    {
     "data": {
      "text/plain": [
       "<matplotlib.image.AxesImage at 0x21bf47ec820>"
      ]
     },
     "execution_count": 22,
     "metadata": {},
     "output_type": "execute_result"
    },
    {
     "data": {
      "image/png": "[encoded data removed]",
      "text/plain": [
       "<Figure size 432x288 with 2 Axes>"
      ]
     },
     "metadata": {
      "needs_background": "light"
     },
     "output_type": "display_data"
    }
   ],
   "source": [
    "plt.subplot(2, 1, 1)\n",
    "plt.title(str(y_train[0]))\n",
    "plt.imshow(x_train[0].reshape((26, 34)), cmap='gray')\n",
    "plt.subplot(2, 1, 2)\n",
    "plt.title(str(y_val[4]))\n",
    "plt.imshow(x_val[4].reshape((26, 34)), cmap='gray')"
   ]
  },
  {
   "cell_type": "code",
   "execution_count": 25,
   "metadata": {},
   "outputs": [],
   "source": [
    "train_datagen = ImageDataGenerator(\n",
    "    rescale=1./255,\n",
    "    rotation_range=10,\n",
    "    width_shift_range=0.2,\n",
    "    height_shift_range=0.2,\n",
    "    shear_range=0.2\n",
    ")\n",
    "\n",
    "val_datagen = ImageDataGenerator(rescale=1./255)\n",
    "\n",
    "train_generator = train_datagen.flow(\n",
    "    x=x_train, y=y_train,\n",
    "    batch_size=32,\n",
    "    shuffle=True\n",
    ")\n",
    "\n",
    "val_generator = val_datagen.flow(\n",
    "    x=x_val, y=y_val,\n",
    "    batch_size=32,\n",
    "    shuffle=False\n",
    ")"
   ]
  },
  {
   "cell_type": "code",
   "execution_count": 26,
   "metadata": {},
   "outputs": [
    {
     "name": "stdout",
     "output_type": "stream",
     "text": [
      "Model: \"model\"\n",
      "_________________________________________________________________\n",
      "Layer (type)                 Output Shape              Param #   \n",
      "=================================================================\n",
      "input_1 (InputLayer)         [(None, 26, 34, 1)]       0         \n",
      "_________________________________________________________________\n",
      "conv2d (Conv2D)              (None, 26, 34, 32)        320       \n",
      "_________________________________________________________________\n",
      "max_pooling2d (MaxPooling2D) (None, 13, 17, 32)        0         \n",
      "_________________________________________________________________\n",
      "conv2d_1 (Conv2D)            (None, 13, 17, 64)        18496     \n",
      "_________________________________________________________________\n",
      "max_pooling2d_1 (MaxPooling2 (None, 6, 8, 64)          0         \n",
      "_________________________________________________________________\n",
      "conv2d_2 (Conv2D)            (None, 6, 8, 128)         73856     \n",
      "_________________________________________________________________\n",
      "max_pooling2d_2 (MaxPooling2 (None, 3, 4, 128)         0         \n",
      "_________________________________________________________________\n",
      "flatten (Flatten)            (None, 1536)              0         \n",
      "_________________________________________________________________\n",
      "dense (Dense)                (None, 512)               786944    \n",
      "_________________________________________________________________\n",
      "activation (Activation)      (None, 512)               0         \n",
      "_________________________________________________________________\n",
      "dense_1 (Dense)              (None, 1)                 513       \n",
      "_________________________________________________________________\n",
      "activation_1 (Activation)    (None, 1)                 0         \n",
      "=================================================================\n",
      "Total params: 880,129\n",
      "Trainable params: 880,129\n",
      "Non-trainable params: 0\n",
      "_________________________________________________________________\n"
     ]
    }
   ],
   "source": [
    "inputs = Input(shape=(26, 34, 1))\n",
    "\n",
    "net = Conv2D(32, kernel_size=3, strides=1, padding='same', activation='relu')(inputs)\n",
    "net = MaxPooling2D(pool_size=2)(net)\n",
    "\n",
    "net = Conv2D(64, kernel_size=3, strides=1, padding='same', activation='relu')(net)\n",
    "net = MaxPooling2D(pool_size=2)(net)\n",
    "\n",
    "net = Conv2D(128, kernel_size=3, strides=1, padding='same', activation='relu')(net)\n",
    "net = MaxPooling2D(pool_size=2)(net)\n",
    "\n",
    "net = Flatten()(net)\n",
    "\n",
    "net = Dense(512)(net)\n",
    "net = Activation('relu')(net)\n",
    "net = Dense(1)(net)\n",
    "outputs = Activation('sigmoid')(net)\n",
    "\n",
    "model = Model(inputs=inputs, outputs=outputs)\n",
    "\n",
    "model.compile(optimizer='adam', loss='binary_crossentropy', metrics=['acc'])\n",
    "\n",
    "model.summary()"
   ]
  },
  {
   "cell_type": "code",
   "execution_count": 27,
   "metadata": {},
   "outputs": [
    {
     "name": "stdout",
     "output_type": "stream",
     "text": [
      "WARNING:tensorflow:From <ipython-input-27-3be1eb108204>:3: Model.fit_generator (from tensorflow.python.keras.engine.training) is deprecated and will be removed in a future version.\n",
      "Instructions for updating:\n",
      "Please use Model.fit, which supports generators.\n",
      "Epoch 1/50\n",
      "83/84 [============================>.] - ETA: 0s - loss: 0.4607 - acc: 0.7760\n",
      "Epoch 00001: val_acc improved from -inf to 0.90572, saving model to ./gaze_tracking/trained_models/2021_07_12_12_27_22.h5\n",
      "84/84 [==============================] - 4s 50ms/step - loss: 0.4582 - acc: 0.7779 - val_loss: 0.2407 - val_acc: 0.9057 - lr: 0.0010\n",
      "Epoch 2/50\n",
      "84/84 [==============================] - ETA: 0s - loss: 0.2075 - acc: 0.9203\n",
      "Epoch 00002: val_acc improved from 0.90572 to 0.95286, saving model to ./gaze_tracking/trained_models/2021_07_12_12_27_22.h5\n",
      "84/84 [==============================] - 4s 47ms/step - loss: 0.2075 - acc: 0.9203 - val_loss: 0.1258 - val_acc: 0.9529 - lr: 0.0010\n",
      "Epoch 3/50\n",
      "83/84 [============================>.] - ETA: 0s - loss: 0.1826 - acc: 0.9361\n",
      "Epoch 00003: val_acc did not improve from 0.95286\n",
      "84/84 [==============================] - 4s 45ms/step - loss: 0.1814 - acc: 0.9369 - val_loss: 0.1116 - val_acc: 0.9495 - lr: 0.0010\n",
      "Epoch 4/50\n",
      "83/84 [============================>.] - ETA: 0s - loss: 0.1263 - acc: 0.9589\n",
      "Epoch 00004: val_acc improved from 0.95286 to 0.97980, saving model to ./gaze_tracking/trained_models/2021_07_12_12_27_22.h5\n",
      "84/84 [==============================] - 4s 45ms/step - loss: 0.1253 - acc: 0.9594 - val_loss: 0.0538 - val_acc: 0.9798 - lr: 0.0010\n",
      "Epoch 5/50\n",
      "84/84 [==============================] - ETA: 0s - loss: 0.1047 - acc: 0.9628\n",
      "Epoch 00005: val_acc improved from 0.97980 to 0.98316, saving model to ./gaze_tracking/trained_models/2021_07_12_12_27_22.h5\n",
      "84/84 [==============================] - 4s 50ms/step - loss: 0.1047 - acc: 0.9628 - val_loss: 0.0587 - val_acc: 0.9832 - lr: 0.0010\n",
      "Epoch 6/50\n",
      "83/84 [============================>.] - ETA: 0s - loss: 0.1016 - acc: 0.9696\n",
      "Epoch 00006: val_acc did not improve from 0.98316\n",
      "84/84 [==============================] - 4s 47ms/step - loss: 0.1008 - acc: 0.9699 - val_loss: 0.0544 - val_acc: 0.9764 - lr: 0.0010\n",
      "Epoch 7/50\n",
      "83/84 [============================>.] - ETA: 0s - loss: 0.0683 - acc: 0.9779\n",
      "Epoch 00007: val_acc did not improve from 0.98316\n",
      "84/84 [==============================] - 4s 47ms/step - loss: 0.0677 - acc: 0.9782 - val_loss: 0.0452 - val_acc: 0.9832 - lr: 0.0010\n",
      "Epoch 8/50\n",
      "83/84 [============================>.] - ETA: 0s - loss: 0.0476 - acc: 0.9855\n",
      "Epoch 00008: val_acc did not improve from 0.98316\n",
      "84/84 [==============================] - 4s 45ms/step - loss: 0.0481 - acc: 0.9853 - val_loss: 0.0515 - val_acc: 0.9832 - lr: 0.0010\n",
      "Epoch 9/50\n",
      "83/84 [============================>.] - ETA: 0s - loss: 0.0582 - acc: 0.9806\n",
      "Epoch 00009: val_acc improved from 0.98316 to 0.98990, saving model to ./gaze_tracking/trained_models/2021_07_12_12_27_22.h5\n",
      "84/84 [==============================] - 4s 46ms/step - loss: 0.0586 - acc: 0.9801 - val_loss: 0.0334 - val_acc: 0.9899 - lr: 0.0010\n",
      "Epoch 10/50\n",
      "83/84 [============================>.] - ETA: 0s - loss: 0.0511 - acc: 0.9810\n",
      "Epoch 00010: val_acc did not improve from 0.98990\n",
      "84/84 [==============================] - 4s 44ms/step - loss: 0.0529 - acc: 0.9805 - val_loss: 0.0550 - val_acc: 0.9832 - lr: 0.0010\n",
      "Epoch 11/50\n",
      "83/84 [============================>.] - ETA: 0s - loss: 0.0476 - acc: 0.9840\n",
      "Epoch 00011: val_acc did not improve from 0.98990\n",
      "84/84 [==============================] - 4s 44ms/step - loss: 0.0474 - acc: 0.9838 - val_loss: 0.0639 - val_acc: 0.9865 - lr: 0.0010\n",
      "Epoch 12/50\n",
      "83/84 [============================>.] - ETA: 0s - loss: 0.0459 - acc: 0.9867\n",
      "Epoch 00012: val_acc did not improve from 0.98990\n",
      "84/84 [==============================] - 4s 45ms/step - loss: 0.0464 - acc: 0.9861 - val_loss: 0.0366 - val_acc: 0.9899 - lr: 0.0010\n",
      "Epoch 13/50\n",
      "84/84 [==============================] - ETA: 0s - loss: 0.0399 - acc: 0.9891\n",
      "Epoch 00013: val_acc did not improve from 0.98990\n",
      "84/84 [==============================] - 4s 44ms/step - loss: 0.0399 - acc: 0.9891 - val_loss: 0.0209 - val_acc: 0.9899 - lr: 0.0010\n",
      "Epoch 14/50\n",
      "84/84 [==============================] - ETA: 0s - loss: 0.0358 - acc: 0.9884\n",
      "Epoch 00014: val_acc did not improve from 0.98990\n",
      "84/84 [==============================] - 4s 45ms/step - loss: 0.0358 - acc: 0.9884 - val_loss: 0.0295 - val_acc: 0.9899 - lr: 0.0010\n",
      "Epoch 15/50\n",
      "83/84 [============================>.] - ETA: 0s - loss: 0.0472 - acc: 0.9798\n",
      "Epoch 00015: val_acc did not improve from 0.98990\n",
      "84/84 [==============================] - 4s 44ms/step - loss: 0.0479 - acc: 0.9797 - val_loss: 0.0918 - val_acc: 0.9832 - lr: 0.0010\n",
      "Epoch 16/50\n",
      "84/84 [==============================] - ETA: 0s - loss: 0.0399 - acc: 0.9876\n",
      "Epoch 00016: val_acc improved from 0.98990 to 0.99327, saving model to ./gaze_tracking/trained_models/2021_07_12_12_27_22.h5\n",
      "84/84 [==============================] - 4s 45ms/step - loss: 0.0399 - acc: 0.9876 - val_loss: 0.0310 - val_acc: 0.9933 - lr: 0.0010\n",
      "Epoch 17/50\n",
      "84/84 [==============================] - ETA: 0s - loss: 0.0244 - acc: 0.9929\n",
      "Epoch 00017: val_acc did not improve from 0.99327\n",
      "84/84 [==============================] - 4s 49ms/step - loss: 0.0244 - acc: 0.9929 - val_loss: 0.0618 - val_acc: 0.9865 - lr: 0.0010\n",
      "Epoch 18/50\n",
      "84/84 [==============================] - ETA: 0s - loss: 0.0355 - acc: 0.9887\n",
      "Epoch 00018: val_acc did not improve from 0.99327\n",
      "84/84 [==============================] - 4s 44ms/step - loss: 0.0355 - acc: 0.9887 - val_loss: 0.0606 - val_acc: 0.9865 - lr: 0.0010\n",
      "Epoch 19/50\n",
      "83/84 [============================>.] - ETA: 0s - loss: 0.0375 - acc: 0.9874\n",
      "Epoch 00019: val_acc did not improve from 0.99327\n",
      "84/84 [==============================] - 4s 44ms/step - loss: 0.0377 - acc: 0.9872 - val_loss: 0.0806 - val_acc: 0.9798 - lr: 0.0010\n",
      "Epoch 20/50\n",
      "83/84 [============================>.] - ETA: 0s - loss: 0.0345 - acc: 0.9886\n",
      "Epoch 00020: val_acc did not improve from 0.99327\n",
      "84/84 [==============================] - 4s 47ms/step - loss: 0.0360 - acc: 0.9884 - val_loss: 0.0276 - val_acc: 0.9933 - lr: 0.0010\n",
      "Epoch 21/50\n",
      "83/84 [============================>.] - ETA: 0s - loss: 0.0176 - acc: 0.9935\n",
      "Epoch 00021: val_acc did not improve from 0.99327\n",
      "84/84 [==============================] - 4s 45ms/step - loss: 0.0180 - acc: 0.9932 - val_loss: 0.1218 - val_acc: 0.9764 - lr: 0.0010\n",
      "Epoch 22/50\n",
      "84/84 [==============================] - ETA: 0s - loss: 0.0313 - acc: 0.9880\n",
      "Epoch 00022: val_acc did not improve from 0.99327\n",
      "84/84 [==============================] - 4s 45ms/step - loss: 0.0313 - acc: 0.9880 - val_loss: 0.0338 - val_acc: 0.9933 - lr: 0.0010\n",
      "Epoch 23/50\n",
      "83/84 [============================>.] - ETA: 0s - loss: 0.0128 - acc: 0.9973\n",
      "Epoch 00023: val_acc did not improve from 0.99327\n",
      "84/84 [==============================] - 4s 44ms/step - loss: 0.0127 - acc: 0.9974 - val_loss: 0.0612 - val_acc: 0.9865 - lr: 0.0010\n",
      "Epoch 24/50\n",
      "84/84 [==============================] - ETA: 0s - loss: 0.0218 - acc: 0.9921\n",
      "Epoch 00024: val_acc did not improve from 0.99327\n",
      "84/84 [==============================] - 4s 44ms/step - loss: 0.0218 - acc: 0.9921 - val_loss: 0.0651 - val_acc: 0.9832 - lr: 0.0010\n",
      "Epoch 25/50\n",
      "84/84 [==============================] - ETA: 0s - loss: 0.0201 - acc: 0.9932\n",
      "Epoch 00025: val_acc did not improve from 0.99327\n",
      "84/84 [==============================] - 4s 44ms/step - loss: 0.0201 - acc: 0.9932 - val_loss: 0.0192 - val_acc: 0.9933 - lr: 0.0010\n",
      "Epoch 26/50\n",
      "84/84 [==============================] - ETA: 0s - loss: 0.0244 - acc: 0.9921- ETA: 1s - loss: 0.0223\n",
      "Epoch 00026: val_acc did not improve from 0.99327\n",
      "\n",
      "Epoch 00026: ReduceLROnPlateau reducing learning rate to 0.00020000000949949026.\n",
      "84/84 [==============================] - 4s 45ms/step - loss: 0.0244 - acc: 0.9921 - val_loss: 0.0787 - val_acc: 0.9798 - lr: 0.0010\n",
      "Epoch 27/50\n",
      "84/84 [==============================] - ETA: 0s - loss: 0.0158 - acc: 0.9962\n",
      "Epoch 00027: val_acc did not improve from 0.99327\n",
      "84/84 [==============================] - 4s 44ms/step - loss: 0.0158 - acc: 0.9962 - val_loss: 0.0644 - val_acc: 0.9832 - lr: 2.0000e-04\n",
      "Epoch 28/50\n"
     ]
    },
    {
     "name": "stdout",
     "output_type": "stream",
     "text": [
      "84/84 [==============================] - ETA: 0s - loss: 0.0111 - acc: 0.9955\n",
      "Epoch 00028: val_acc did not improve from 0.99327\n",
      "84/84 [==============================] - 4s 43ms/step - loss: 0.0111 - acc: 0.9955 - val_loss: 0.0459 - val_acc: 0.9832 - lr: 2.0000e-04\n",
      "Epoch 29/50\n",
      "83/84 [============================>.] - ETA: 0s - loss: 0.0081 - acc: 0.9981\n",
      "Epoch 00029: val_acc did not improve from 0.99327\n",
      "84/84 [==============================] - 4s 42ms/step - loss: 0.0080 - acc: 0.9981 - val_loss: 0.0442 - val_acc: 0.9865 - lr: 2.0000e-04\n",
      "Epoch 30/50\n",
      "84/84 [==============================] - ETA: 0s - loss: 0.0093 - acc: 0.9974\n",
      "Epoch 00030: val_acc did not improve from 0.99327\n",
      "84/84 [==============================] - 4s 43ms/step - loss: 0.0093 - acc: 0.9974 - val_loss: 0.0405 - val_acc: 0.9865 - lr: 2.0000e-04\n",
      "Epoch 31/50\n",
      "83/84 [============================>.] - ETA: 0s - loss: 0.0057 - acc: 0.9985\n",
      "Epoch 00031: val_acc did not improve from 0.99327\n",
      "84/84 [==============================] - 4s 43ms/step - loss: 0.0057 - acc: 0.9985 - val_loss: 0.0486 - val_acc: 0.9865 - lr: 2.0000e-04\n",
      "Epoch 32/50\n",
      "84/84 [==============================] - ETA: 0s - loss: 0.0057 - acc: 0.9981\n",
      "Epoch 00032: val_acc did not improve from 0.99327\n",
      "84/84 [==============================] - 4s 43ms/step - loss: 0.0057 - acc: 0.9981 - val_loss: 0.0513 - val_acc: 0.9865 - lr: 2.0000e-04\n",
      "Epoch 33/50\n",
      "83/84 [============================>.] - ETA: 0s - loss: 0.0073 - acc: 0.9977\n",
      "Epoch 00033: val_acc did not improve from 0.99327\n",
      "84/84 [==============================] - 4s 43ms/step - loss: 0.0072 - acc: 0.9977 - val_loss: 0.0427 - val_acc: 0.9865 - lr: 2.0000e-04\n",
      "Epoch 34/50\n",
      "84/84 [==============================] - ETA: 0s - loss: 0.0095 - acc: 0.9966\n",
      "Epoch 00034: val_acc did not improve from 0.99327\n",
      "84/84 [==============================] - 4s 44ms/step - loss: 0.0095 - acc: 0.9966 - val_loss: 0.0329 - val_acc: 0.9933 - lr: 2.0000e-04\n",
      "Epoch 35/50\n",
      "84/84 [==============================] - ETA: 0s - loss: 0.0064 - acc: 0.9981\n",
      "Epoch 00035: val_acc did not improve from 0.99327\n",
      "84/84 [==============================] - 4s 43ms/step - loss: 0.0064 - acc: 0.9981 - val_loss: 0.0447 - val_acc: 0.9865 - lr: 2.0000e-04\n",
      "Epoch 36/50\n",
      "84/84 [==============================] - ETA: 0s - loss: 0.0068 - acc: 0.9985\n",
      "Epoch 00036: val_acc did not improve from 0.99327\n",
      "\n",
      "Epoch 00036: ReduceLROnPlateau reducing learning rate to 4.0000001899898055e-05.\n",
      "84/84 [==============================] - 4s 45ms/step - loss: 0.0068 - acc: 0.9985 - val_loss: 0.0433 - val_acc: 0.9865 - lr: 2.0000e-04\n",
      "Epoch 37/50\n",
      "84/84 [==============================] - ETA: 0s - loss: 0.0075 - acc: 0.9981- ET\n",
      "Epoch 00037: val_acc did not improve from 0.99327\n",
      "84/84 [==============================] - 4s 44ms/step - loss: 0.0075 - acc: 0.9981 - val_loss: 0.0505 - val_acc: 0.9865 - lr: 4.0000e-05\n",
      "Epoch 38/50\n",
      "84/84 [==============================] - ETA: 0s - loss: 0.0044 - acc: 0.9989\n",
      "Epoch 00038: val_acc did not improve from 0.99327\n",
      "84/84 [==============================] - 4s 43ms/step - loss: 0.0044 - acc: 0.9989 - val_loss: 0.0490 - val_acc: 0.9865 - lr: 4.0000e-05\n",
      "Epoch 39/50\n",
      "84/84 [==============================] - ETA: 0s - loss: 0.0051 - acc: 0.9989\n",
      "Epoch 00039: val_acc did not improve from 0.99327\n",
      "84/84 [==============================] - 4s 43ms/step - loss: 0.0051 - acc: 0.9989 - val_loss: 0.0504 - val_acc: 0.9865 - lr: 4.0000e-05\n",
      "Epoch 40/50\n",
      "83/84 [============================>.] - ETA: 0s - loss: 0.0054 - acc: 0.9985\n",
      "Epoch 00040: val_acc did not improve from 0.99327\n",
      "84/84 [==============================] - 4s 43ms/step - loss: 0.0054 - acc: 0.9985 - val_loss: 0.0490 - val_acc: 0.9865 - lr: 4.0000e-05\n",
      "Epoch 41/50\n",
      "84/84 [==============================] - ETA: 0s - loss: 0.0060 - acc: 0.9981\n",
      "Epoch 00041: val_acc did not improve from 0.99327\n",
      "84/84 [==============================] - 4s 45ms/step - loss: 0.0060 - acc: 0.9981 - val_loss: 0.0495 - val_acc: 0.9865 - lr: 4.0000e-05\n",
      "Epoch 42/50\n",
      "83/84 [============================>.] - ETA: 0s - loss: 0.0035 - acc: 0.9989\n",
      "Epoch 00042: val_acc did not improve from 0.99327\n",
      "84/84 [==============================] - 4s 47ms/step - loss: 0.0035 - acc: 0.9989 - val_loss: 0.0507 - val_acc: 0.9865 - lr: 4.0000e-05\n",
      "Epoch 43/50\n",
      "84/84 [==============================] - ETA: 0s - loss: 0.0095 - acc: 0.9962\n",
      "Epoch 00043: val_acc did not improve from 0.99327\n",
      "84/84 [==============================] - 4s 43ms/step - loss: 0.0095 - acc: 0.9962 - val_loss: 0.0527 - val_acc: 0.9865 - lr: 4.0000e-05\n",
      "Epoch 44/50\n",
      "83/84 [============================>.] - ETA: 0s - loss: 0.0041 - acc: 0.9992\n",
      "Epoch 00044: val_acc did not improve from 0.99327\n",
      "84/84 [==============================] - 4s 44ms/step - loss: 0.0041 - acc: 0.9992 - val_loss: 0.0520 - val_acc: 0.9865 - lr: 4.0000e-05\n",
      "Epoch 45/50\n",
      "84/84 [==============================] - ETA: 0s - loss: 0.0048 - acc: 0.9985\n",
      "Epoch 00045: val_acc did not improve from 0.99327\n",
      "84/84 [==============================] - 4s 44ms/step - loss: 0.0048 - acc: 0.9985 - val_loss: 0.0504 - val_acc: 0.9865 - lr: 4.0000e-05\n",
      "Epoch 46/50\n",
      "84/84 [==============================] - ETA: 0s - loss: 0.0062 - acc: 0.9985\n",
      "Epoch 00046: val_acc did not improve from 0.99327\n",
      "\n",
      "Epoch 00046: ReduceLROnPlateau reducing learning rate to 1e-05.\n",
      "84/84 [==============================] - 4s 43ms/step - loss: 0.0062 - acc: 0.9985 - val_loss: 0.0515 - val_acc: 0.9865 - lr: 4.0000e-05\n",
      "Epoch 47/50\n",
      "83/84 [============================>.] - ETA: 0s - loss: 0.0043 - acc: 0.9989\n",
      "Epoch 00047: val_acc did not improve from 0.99327\n",
      "84/84 [==============================] - 4s 44ms/step - loss: 0.0042 - acc: 0.9989 - val_loss: 0.0507 - val_acc: 0.9865 - lr: 1.0000e-05\n",
      "Epoch 48/50\n",
      "83/84 [============================>.] - ETA: 0s - loss: 0.0032 - acc: 0.9992\n",
      "Epoch 00048: val_acc did not improve from 0.99327\n",
      "84/84 [==============================] - 4s 43ms/step - loss: 0.0031 - acc: 0.9992 - val_loss: 0.0519 - val_acc: 0.9865 - lr: 1.0000e-05\n",
      "Epoch 49/50\n",
      "84/84 [==============================] - ETA: 0s - loss: 0.0043 - acc: 0.9985\n",
      "Epoch 00049: val_acc did not improve from 0.99327\n",
      "84/84 [==============================] - 4s 44ms/step - loss: 0.0043 - acc: 0.9985 - val_loss: 0.0512 - val_acc: 0.9865 - lr: 1.0000e-05\n",
      "Epoch 50/50\n",
      "83/84 [============================>.] - ETA: 0s - loss: 0.0039 - acc: 0.9985\n",
      "Epoch 00050: val_acc did not improve from 0.99327\n",
      "84/84 [==============================] - 4s 43ms/step - loss: 0.0039 - acc: 0.9985 - val_loss: 0.0507 - val_acc: 0.9865 - lr: 1.0000e-05\n"
     ]
    },
    {
     "data": {
      "text/plain": [
       "<tensorflow.python.keras.callbacks.History at 0x21bf486be20>"
      ]
     },
     "execution_count": 27,
     "metadata": {},
     "output_type": "execute_result"
    }
   ],
   "source": [
    "start_time = datetime.datetime.now().strftime('%Y_%m_%d_%H_%M_%S')\n",
    "\n",
    "model.fit_generator(\n",
    "    train_generator, epochs=50, validation_data=val_generator,\n",
    "    callbacks=[\n",
    "        ModelCheckpoint('./gaze_tracking/trained_models/%s.h5' % (start_time), monitor='val_acc', save_best_only=True, mode='max', verbose=1),\n",
    "        ReduceLROnPlateau(monitor='val_acc', factor=0.2, patience=10, verbose=1, mode='auto', min_lr=1e-05)\n",
    "    ]\n",
    ")"
   ]
  },
  {
   "cell_type": "code",
   "execution_count": 28,
   "metadata": {},
   "outputs": [
    {
     "name": "stdout",
     "output_type": "stream",
     "text": [
      "test acc: 0.9932659932659933\n"
     ]
    },
    {
     "data": {
      "text/plain": [
       "<matplotlib.axes._subplots.AxesSubplot at 0x21b80e13a30>"
      ]
     },
     "execution_count": 28,
     "metadata": {},
     "output_type": "execute_result"
    },
    {
     "data": {
      "image/png": "[encoded data removed]",
      "text/plain": [
       "<Figure size 432x288 with 2 Axes>"
      ]
     },
     "metadata": {},
     "output_type": "display_data"
    }
   ],
   "source": [
    "from sklearn.metrics import accuracy_score, confusion_matrix\n",
    "import seaborn as sns\n",
    "\n",
    "model = load_model('./gaze_tracking/trained_models/%s.h5' % (start_time))\n",
    "\n",
    "y_pred = model.predict(x_val/255.)\n",
    "y_pred_logical = (y_pred > 0.5).astype(np.int)\n",
    "\n",
    "print ('test acc: %s' % accuracy_score(y_val, y_pred_logical))\n",
    "cm = confusion_matrix(y_val, y_pred_logical)\n",
    "sns.heatmap(cm, annot=True)"
   ]
  },
  {
   "cell_type": "code",
   "execution_count": 29,
   "metadata": {},
   "outputs": [
    {
     "data": {
      "image/png": "[encoded data removed]",
      "text/plain": [
       "<Figure size 432x288 with 1 Axes>"
      ]
     },
     "metadata": {},
     "output_type": "display_data"
    }
   ],
   "source": [
    "ax = sns.distplot(y_pred, kde=False)"
   ]
  },
  {
   "cell_type": "markdown",
   "metadata": {},
   "source": [
    "# Preprocessing"
   ]
  },
  {
   "cell_type": "code",
   "execution_count": null,
   "metadata": {},
   "outputs": [],
   "source": []
  }
 ],
 "metadata": {
  "kernelspec": {
   "display_name": "Python 3",
   "language": "python",
   "name": "python3"
  },
  "language_info": {
   "codemirror_mode": {
    "name": "ipython",
    "version": 3
   },
   "file_extension": ".py",
   "mimetype": "text/x-python",
   "name": "python",
   "nbconvert_exporter": "python",
   "pygments_lexer": "ipython3",
   "version": "3.8.3"
  }
 },
 "nbformat": 4,
 "nbformat_minor": 2
}