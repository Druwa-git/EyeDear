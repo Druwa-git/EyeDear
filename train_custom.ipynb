{
 "cells": [
  {
   "cell_type": "code",
   "execution_count": 1,
   "metadata": {},
   "outputs": [],
   "source": [
    "from helpers import *\n",
    "import matplotlib.pyplot as plt\n",
    "import os, glob, cv2, random\n",
    "import seaborn as sns\n",
    "import pandas as pd\n",
    "from PIL import Image\n",
    "import tensorflow as tf\n",
    "from tensorflow import keras"
   ]
  },
  {
   "cell_type": "markdown",
   "metadata": {},
   "source": [
    "# Preview"
   ]
  },
  {
   "cell_type": "code",
   "execution_count": 15,
   "metadata": {},
   "outputs": [],
   "source": [
    "path = \"./dataset/\"\n",
    "\n",
    "# 학습 데이터 준비 \n",
    "filenames = os.listdir(path)\n",
    "X=[]\n",
    "y=[]\n",
    "categories=[]\n",
    "for filename in filenames:\n",
    "    image = Image.open(path + filename)\n",
    "    \n",
    "    image = np.array(image)\n",
    "    X.append(image)\n",
    "    category=filename.split(\"_\")[0]\n",
    "    if category ==\"close\":\n",
    "        y.append([0])\n",
    "    else:\n",
    "        y.append([1])"
   ]
  },
  {
   "cell_type": "code",
   "execution_count": null,
   "metadata": {},
   "outputs": [],
   "source": []
  },
  {
   "cell_type": "code",
   "execution_count": 16,
   "metadata": {},
   "outputs": [],
   "source": [
    "X = np.array(X)\n",
    "y = np.array(y)"
   ]
  },
  {
   "cell_type": "code",
   "execution_count": 17,
   "metadata": {},
   "outputs": [
    {
     "data": {
      "text/plain": [
       "((44, 26, 34), (44, 1))"
      ]
     },
     "execution_count": 17,
     "metadata": {},
     "output_type": "execute_result"
    }
   ],
   "source": [
    "X.shape, y.shape"
   ]
  },
  {
   "cell_type": "code",
   "execution_count": 22,
   "metadata": {},
   "outputs": [],
   "source": [
    "n_total = len(X)\n",
    "X_result = np.empty((n_total, 26, 34,1))"
   ]
  },
  {
   "cell_type": "code",
   "execution_count": 23,
   "metadata": {},
   "outputs": [],
   "source": [
    "for i, x in enumerate(X):\n",
    "    img = x.reshape((26, 34,1))\n",
    "    \n",
    "    X_result[i] = img"
   ]
  },
  {
   "cell_type": "code",
   "execution_count": 24,
   "metadata": {},
   "outputs": [
    {
     "name": "stdout",
     "output_type": "stream",
     "text": [
      "(39, 26, 34, 1) (39, 1)\n",
      "(5, 26, 34, 1) (5, 1)\n"
     ]
    }
   ],
   "source": [
    "from sklearn.model_selection import train_test_split\n",
    "\n",
    "x_train, x_val, y_train, y_val = train_test_split(X_result, y, test_size=0.1)\n",
    "\n",
    "print(x_train.shape, y_train.shape)\n",
    "print(x_val.shape, y_val.shape)\n",
    "\n",
    "np.save('dataset/x_train.npy', x_train)\n",
    "np.save('dataset/y_train.npy', y_train)\n",
    "np.save('dataset/x_val.npy', x_val)\n",
    "np.save('dataset/y_val.npy', y_val)"
   ]
  },
  {
   "cell_type": "code",
   "execution_count": 28,
   "metadata": {},
   "outputs": [
    {
     "data": {
      "text/plain": [
       "<matplotlib.image.AxesImage at 0x1d336457d60>"
      ]
     },
     "execution_count": 28,
     "metadata": {},
     "output_type": "execute_result"
    },
    {
     "data": {
      "image/png": "[encoded data removed]",
      "text/plain": [
       "<Figure size 432x288 with 2 Axes>"
      ]
     },
     "metadata": {
      "needs_background": "light"
     },
     "output_type": "display_data"
    }
   ],
   "source": [
    "plt.subplot(2, 1, 1)\n",
    "plt.title(str(y_train[0]))\n",
    "plt.imshow(x_train[0].reshape((26, 34)), cmap='gray')\n",
    "plt.subplot(2, 1, 2)\n",
    "plt.title(str(y_val[3]))\n",
    "plt.imshow(x_val[3].reshape((26, 34)), cmap='gray')"
   ]
  },
  {
   "cell_type": "code",
   "execution_count": 26,
   "metadata": {},
   "outputs": [
    {
     "data": {
      "text/plain": [
       "<matplotlib.axes._subplots.AxesSubplot at 0x1d3353776d0>"
      ]
     },
     "execution_count": 26,
     "metadata": {},
     "output_type": "execute_result"
    },
    {
     "data": {
      "image/png": "[encoded data removed]",
      "text/plain": [
       "<Figure size 432x288 with 1 Axes>"
      ]
     },
     "metadata": {
      "needs_background": "light"
     },
     "output_type": "display_data"
    }
   ],
   "source": [
    "sns.distplot(y_train, kde=False)"
   ]
  },
  {
   "cell_type": "code",
   "execution_count": 27,
   "metadata": {},
   "outputs": [
    {
     "data": {
      "text/plain": [
       "<matplotlib.axes._subplots.AxesSubplot at 0x1d3363b4a00>"
      ]
     },
     "execution_count": 27,
     "metadata": {},
     "output_type": "execute_result"
    },
    {
     "data": {
      "image/png": "[encoded data removed]",
      "text/plain": [
       "<Figure size 432x288 with 1 Axes>"
      ]
     },
     "metadata": {
      "needs_background": "light"
     },
     "output_type": "display_data"
    }
   ],
   "source": [
    "sns.distplot(y_val, kde=False)"
   ]
  },
  {
   "cell_type": "code",
   "execution_count": 29,
   "metadata": {},
   "outputs": [],
   "source": [
    "import datetime\n",
    "import numpy as np\n",
    "import matplotlib.pyplot as plt\n",
    "from keras.layers import Input, Activation, Conv2D, Flatten, Dense, MaxPooling2D\n",
    "from keras.models import Model, load_model\n",
    "from keras.preprocessing.image import ImageDataGenerator\n",
    "from keras.callbacks import ModelCheckpoint, ReduceLROnPlateau\n",
    "plt.style.use('dark_background')"
   ]
  },
  {
   "cell_type": "code",
   "execution_count": 30,
   "metadata": {},
   "outputs": [
    {
     "name": "stdout",
     "output_type": "stream",
     "text": [
      "(39, 26, 34, 1) (39, 1)\n",
      "(5, 26, 34, 1) (5, 1)\n"
     ]
    }
   ],
   "source": [
    "x_train = np.load('dataset/x_train.npy').astype(np.float32)\n",
    "y_train = np.load('dataset/y_train.npy').astype(np.float32)\n",
    "x_val = np.load('dataset/x_val.npy').astype(np.float32)\n",
    "y_val = np.load('dataset/y_val.npy').astype(np.float32)\n",
    "\n",
    "print(x_train.shape, y_train.shape)\n",
    "print(x_val.shape, y_val.shape)"
   ]
  },
  {
   "cell_type": "code",
   "execution_count": 31,
   "metadata": {},
   "outputs": [
    {
     "data": {
      "text/plain": [
       "<matplotlib.image.AxesImage at 0x1d336502ca0>"
      ]
     },
     "execution_count": 31,
     "metadata": {},
     "output_type": "execute_result"
    },
    {
     "data": {
      "image/png": "[encoded data removed]",
      "text/plain": [
       "<Figure size 432x288 with 2 Axes>"
      ]
     },
     "metadata": {},
     "output_type": "display_data"
    }
   ],
   "source": [
    "plt.subplot(2, 1, 1)\n",
    "plt.title(str(y_train[0]))\n",
    "plt.imshow(x_train[0].reshape((26, 34)), cmap='gray')\n",
    "plt.subplot(2, 1, 2)\n",
    "plt.title(str(y_val[4]))\n",
    "plt.imshow(x_val[4].reshape((26, 34)), cmap='gray')"
   ]
  },
  {
   "cell_type": "code",
   "execution_count": 32,
   "metadata": {},
   "outputs": [],
   "source": [
    "train_datagen = ImageDataGenerator(\n",
    "    rescale=1./255,\n",
    "    rotation_range=10,\n",
    "    width_shift_range=0.2,\n",
    "    height_shift_range=0.2,\n",
    "    shear_range=0.2\n",
    ")\n",
    "\n",
    "val_datagen = ImageDataGenerator(rescale=1./255)\n",
    "\n",
    "train_generator = train_datagen.flow(\n",
    "    x=x_train, y=y_train,\n",
    "    batch_size=32,\n",
    "    shuffle=True\n",
    ")\n",
    "\n",
    "val_generator = val_datagen.flow(\n",
    "    x=x_val, y=y_val,\n",
    "    batch_size=32,\n",
    "    shuffle=False\n",
    ")"
   ]
  },
  {
   "cell_type": "code",
   "execution_count": 33,
   "metadata": {},
   "outputs": [
    {
     "name": "stdout",
     "output_type": "stream",
     "text": [
      "Model: \"model\"\n",
      "_________________________________________________________________\n",
      "Layer (type)                 Output Shape              Param #   \n",
      "=================================================================\n",
      "input_1 (InputLayer)         [(None, 26, 34, 1)]       0         \n",
      "_________________________________________________________________\n",
      "conv2d (Conv2D)              (None, 26, 34, 32)        320       \n",
      "_________________________________________________________________\n",
      "max_pooling2d (MaxPooling2D) (None, 13, 17, 32)        0         \n",
      "_________________________________________________________________\n",
      "conv2d_1 (Conv2D)            (None, 13, 17, 64)        18496     \n",
      "_________________________________________________________________\n",
      "max_pooling2d_1 (MaxPooling2 (None, 6, 8, 64)          0         \n",
      "_________________________________________________________________\n",
      "conv2d_2 (Conv2D)            (None, 6, 8, 128)         73856     \n",
      "_________________________________________________________________\n",
      "max_pooling2d_2 (MaxPooling2 (None, 3, 4, 128)         0         \n",
      "_________________________________________________________________\n",
      "flatten (Flatten)            (None, 1536)              0         \n",
      "_________________________________________________________________\n",
      "dense (Dense)                (None, 512)               786944    \n",
      "_________________________________________________________________\n",
      "activation (Activation)      (None, 512)               0         \n",
      "_________________________________________________________________\n",
      "dense_1 (Dense)              (None, 1)                 513       \n",
      "_________________________________________________________________\n",
      "activation_1 (Activation)    (None, 1)                 0         \n",
      "=================================================================\n",
      "Total params: 880,129\n",
      "Trainable params: 880,129\n",
      "Non-trainable params: 0\n",
      "_________________________________________________________________\n"
     ]
    }
   ],
   "source": [
    "inputs = Input(shape=(26, 34, 1))\n",
    "\n",
    "net = Conv2D(32, kernel_size=3, strides=1, padding='same', activation='relu')(inputs)\n",
    "net = MaxPooling2D(pool_size=2)(net)\n",
    "\n",
    "net = Conv2D(64, kernel_size=3, strides=1, padding='same', activation='relu')(net)\n",
    "net = MaxPooling2D(pool_size=2)(net)\n",
    "\n",
    "net = Conv2D(128, kernel_size=3, strides=1, padding='same', activation='relu')(net)\n",
    "net = MaxPooling2D(pool_size=2)(net)\n",
    "\n",
    "net = Flatten()(net)\n",
    "\n",
    "net = Dense(512)(net)\n",
    "net = Activation('relu')(net)\n",
    "net = Dense(1)(net)\n",
    "outputs = Activation('sigmoid')(net)\n",
    "\n",
    "model = Model(inputs=inputs, outputs=outputs)\n",
    "\n",
    "model.compile(optimizer='adam', loss='binary_crossentropy', metrics=['acc'])\n",
    "\n",
    "model.summary()"
   ]
  },
  {
   "cell_type": "code",
   "execution_count": 36,
   "metadata": {},
   "outputs": [
    {
     "name": "stdout",
     "output_type": "stream",
     "text": [
      "Epoch 1/50\n",
      "1/2 [==============>...............] - ETA: 0s - loss: 0.1712 - acc: 0.9375\n",
      "Epoch 00001: val_acc improved from -inf to 1.00000, saving model to models/2021_07_11_20_43_10.h5\n",
      "2/2 [==============================] - 0s 44ms/step - loss: 0.1655 - acc: 0.9487 - val_loss: 0.0264 - val_acc: 1.0000 - lr: 1.0000e-05\n",
      "Epoch 2/50\n",
      "1/2 [==============>...............] - ETA: 0s - loss: 0.1036 - acc: 1.0000\n",
      "Epoch 00002: val_acc did not improve from 1.00000\n",
      "2/2 [==============================] - 0s 30ms/step - loss: 0.1106 - acc: 1.0000 - val_loss: 0.0262 - val_acc: 1.0000 - lr: 1.0000e-05\n",
      "Epoch 3/50\n",
      "1/2 [==============>...............] - ETA: 0s - loss: 0.1241 - acc: 1.0000\n",
      "Epoch 00003: val_acc did not improve from 1.00000\n",
      "2/2 [==============================] - 0s 35ms/step - loss: 0.1015 - acc: 0.9744 - val_loss: 0.0260 - val_acc: 1.0000 - lr: 1.0000e-05\n",
      "Epoch 4/50\n",
      "1/2 [==============>...............] - ETA: 0s - loss: 0.1828 - acc: 0.8571\n",
      "Epoch 00004: val_acc did not improve from 1.00000\n",
      "2/2 [==============================] - 0s 35ms/step - loss: 0.1445 - acc: 0.8974 - val_loss: 0.0259 - val_acc: 1.0000 - lr: 1.0000e-05\n",
      "Epoch 5/50\n",
      "1/2 [==============>...............] - ETA: 0s - loss: 0.1072 - acc: 0.9375\n",
      "Epoch 00005: val_acc did not improve from 1.00000\n",
      "2/2 [==============================] - 0s 23ms/step - loss: 0.1181 - acc: 0.9487 - val_loss: 0.0259 - val_acc: 1.0000 - lr: 1.0000e-05\n",
      "Epoch 6/50\n",
      "1/2 [==============>...............] - ETA: 0s - loss: 0.1216 - acc: 0.9688\n",
      "Epoch 00006: val_acc did not improve from 1.00000\n",
      "2/2 [==============================] - 0s 23ms/step - loss: 0.1219 - acc: 0.9744 - val_loss: 0.0258 - val_acc: 1.0000 - lr: 1.0000e-05\n",
      "Epoch 7/50\n",
      "1/2 [==============>...............] - ETA: 0s - loss: 0.0729 - acc: 1.0000\n",
      "Epoch 00007: val_acc did not improve from 1.00000\n",
      "2/2 [==============================] - 0s 36ms/step - loss: 0.1457 - acc: 0.9487 - val_loss: 0.0257 - val_acc: 1.0000 - lr: 1.0000e-05\n",
      "Epoch 8/50\n",
      "1/2 [==============>...............] - ETA: 0s - loss: 0.0417 - acc: 1.0000\n",
      "Epoch 00008: val_acc did not improve from 1.00000\n",
      "2/2 [==============================] - 0s 31ms/step - loss: 0.1143 - acc: 0.9744 - val_loss: 0.0257 - val_acc: 1.0000 - lr: 1.0000e-05\n",
      "Epoch 9/50\n",
      "1/2 [==============>...............] - ETA: 0s - loss: 0.1010 - acc: 0.9688\n",
      "Epoch 00009: val_acc did not improve from 1.00000\n",
      "2/2 [==============================] - 0s 22ms/step - loss: 0.1060 - acc: 0.9744 - val_loss: 0.0258 - val_acc: 1.0000 - lr: 1.0000e-05\n",
      "Epoch 10/50\n",
      "1/2 [==============>...............] - ETA: 0s - loss: 0.0473 - acc: 1.0000\n",
      "Epoch 00010: val_acc did not improve from 1.00000\n",
      "2/2 [==============================] - 0s 35ms/step - loss: 0.1655 - acc: 0.9231 - val_loss: 0.0259 - val_acc: 1.0000 - lr: 1.0000e-05\n",
      "Epoch 11/50\n",
      "1/2 [==============>...............] - ETA: 0s - loss: 0.0898 - acc: 1.0000\n",
      "Epoch 00011: val_acc did not improve from 1.00000\n",
      "2/2 [==============================] - 0s 36ms/step - loss: 0.1282 - acc: 0.9744 - val_loss: 0.0260 - val_acc: 1.0000 - lr: 1.0000e-05\n",
      "Epoch 12/50\n",
      "1/2 [==============>...............] - ETA: 0s - loss: 0.1231 - acc: 0.9688\n",
      "Epoch 00012: val_acc did not improve from 1.00000\n",
      "2/2 [==============================] - 0s 30ms/step - loss: 0.1110 - acc: 0.9744 - val_loss: 0.0262 - val_acc: 1.0000 - lr: 1.0000e-05\n",
      "Epoch 13/50\n",
      "1/2 [==============>...............] - ETA: 0s - loss: 0.0719 - acc: 1.0000\n",
      "Epoch 00013: val_acc did not improve from 1.00000\n",
      "2/2 [==============================] - 0s 38ms/step - loss: 0.1109 - acc: 0.9744 - val_loss: 0.0264 - val_acc: 1.0000 - lr: 1.0000e-05\n",
      "Epoch 14/50\n",
      "1/2 [==============>...............] - ETA: 0s - loss: 0.1176 - acc: 0.9688\n",
      "Epoch 00014: val_acc did not improve from 1.00000\n",
      "2/2 [==============================] - 0s 25ms/step - loss: 0.1146 - acc: 0.9744 - val_loss: 0.0264 - val_acc: 1.0000 - lr: 1.0000e-05\n",
      "Epoch 15/50\n",
      "1/2 [==============>...............] - ETA: 0s - loss: 0.0495 - acc: 1.0000\n",
      "Epoch 00015: val_acc did not improve from 1.00000\n",
      "2/2 [==============================] - 0s 34ms/step - loss: 0.1736 - acc: 0.9487 - val_loss: 0.0264 - val_acc: 1.0000 - lr: 1.0000e-05\n",
      "Epoch 16/50\n",
      "1/2 [==============>...............] - ETA: 0s - loss: 0.0413 - acc: 1.0000\n",
      "Epoch 00016: val_acc did not improve from 1.00000\n",
      "2/2 [==============================] - 0s 32ms/step - loss: 0.0961 - acc: 1.0000 - val_loss: 0.0264 - val_acc: 1.0000 - lr: 1.0000e-05\n",
      "Epoch 17/50\n",
      "1/2 [==============>...............] - ETA: 0s - loss: 0.2567 - acc: 0.8571\n",
      "Epoch 00017: val_acc did not improve from 1.00000\n",
      "2/2 [==============================] - 0s 40ms/step - loss: 0.1047 - acc: 0.9744 - val_loss: 0.0261 - val_acc: 1.0000 - lr: 1.0000e-05\n",
      "Epoch 18/50\n",
      "1/2 [==============>...............] - ETA: 0s - loss: 0.0525 - acc: 1.0000\n",
      "Epoch 00018: val_acc did not improve from 1.00000\n",
      "2/2 [==============================] - 0s 37ms/step - loss: 0.1089 - acc: 0.9487 - val_loss: 0.0258 - val_acc: 1.0000 - lr: 1.0000e-05\n",
      "Epoch 19/50\n",
      "1/2 [==============>...............] - ETA: 0s - loss: 0.1772 - acc: 1.0000\n",
      "Epoch 00019: val_acc did not improve from 1.00000\n",
      "2/2 [==============================] - 0s 35ms/step - loss: 0.1684 - acc: 0.9487 - val_loss: 0.0255 - val_acc: 1.0000 - lr: 1.0000e-05\n",
      "Epoch 20/50\n",
      "1/2 [==============>...............] - ETA: 0s - loss: 0.1150 - acc: 0.9688\n",
      "Epoch 00020: val_acc did not improve from 1.00000\n",
      "2/2 [==============================] - 0s 23ms/step - loss: 0.1011 - acc: 0.9744 - val_loss: 0.0251 - val_acc: 1.0000 - lr: 1.0000e-05\n",
      "Epoch 21/50\n",
      "1/2 [==============>...............] - ETA: 0s - loss: 0.1566 - acc: 1.0000\n",
      "Epoch 00021: val_acc did not improve from 1.00000\n",
      "2/2 [==============================] - 0s 36ms/step - loss: 0.1098 - acc: 1.0000 - val_loss: 0.0246 - val_acc: 1.0000 - lr: 1.0000e-05\n",
      "Epoch 22/50\n",
      "1/2 [==============>...............] - ETA: 0s - loss: 0.1212 - acc: 1.0000\n",
      "Epoch 00022: val_acc did not improve from 1.00000\n",
      "2/2 [==============================] - 0s 41ms/step - loss: 0.0990 - acc: 0.9744 - val_loss: 0.0242 - val_acc: 1.0000 - lr: 1.0000e-05\n",
      "Epoch 23/50\n",
      "1/2 [==============>...............] - ETA: 0s - loss: 0.0909 - acc: 1.0000\n",
      "Epoch 00023: val_acc did not improve from 1.00000\n",
      "2/2 [==============================] - 0s 37ms/step - loss: 0.1523 - acc: 0.9744 - val_loss: 0.0239 - val_acc: 1.0000 - lr: 1.0000e-05\n",
      "Epoch 24/50\n",
      "1/2 [==============>...............] - ETA: 0s - loss: 0.1917 - acc: 0.9375\n",
      "Epoch 00024: val_acc did not improve from 1.00000\n",
      "2/2 [==============================] - 0s 23ms/step - loss: 0.1701 - acc: 0.9487 - val_loss: 0.0235 - val_acc: 1.0000 - lr: 1.0000e-05\n",
      "Epoch 25/50\n",
      "1/2 [==============>...............] - ETA: 0s - loss: 0.0933 - acc: 0.9688\n",
      "Epoch 00025: val_acc did not improve from 1.00000\n",
      "2/2 [==============================] - 0s 27ms/step - loss: 0.1109 - acc: 0.9487 - val_loss: 0.0232 - val_acc: 1.0000 - lr: 1.0000e-05\n",
      "Epoch 26/50\n",
      "1/2 [==============>...............] - ETA: 0s - loss: 0.1250 - acc: 1.0000\n",
      "Epoch 00026: val_acc did not improve from 1.00000\n",
      "2/2 [==============================] - 0s 25ms/step - loss: 0.1354 - acc: 0.9744 - val_loss: 0.0230 - val_acc: 1.0000 - lr: 1.0000e-05\n",
      "Epoch 27/50\n",
      "1/2 [==============>...............] - ETA: 0s - loss: 0.1538 - acc: 0.9062\n",
      "Epoch 00027: val_acc did not improve from 1.00000\n",
      "2/2 [==============================] - 0s 26ms/step - loss: 0.1581 - acc: 0.9231 - val_loss: 0.0228 - val_acc: 1.0000 - lr: 1.0000e-05\n",
      "Epoch 28/50\n",
      "1/2 [==============>...............] - ETA: 0s - loss: 0.1492 - acc: 0.9375\n",
      "Epoch 00028: val_acc did not improve from 1.00000\n",
      "2/2 [==============================] - 0s 27ms/step - loss: 0.1291 - acc: 0.9487 - val_loss: 0.0226 - val_acc: 1.0000 - lr: 1.0000e-05\n",
      "Epoch 29/50\n",
      "1/2 [==============>...............] - ETA: 0s - loss: 0.1039 - acc: 1.0000\n",
      "Epoch 00029: val_acc did not improve from 1.00000\n",
      "2/2 [==============================] - 0s 50ms/step - loss: 0.1223 - acc: 0.9744 - val_loss: 0.0225 - val_acc: 1.0000 - lr: 1.0000e-05\n",
      "Epoch 30/50\n",
      "2/2 [==============================] - ETA: 0s - loss: 0.1332 - acc: 0.9744\n",
      "Epoch 00030: val_acc did not improve from 1.00000\n",
      "2/2 [==============================] - 0s 49ms/step - loss: 0.1332 - acc: 0.9744 - val_loss: 0.0223 - val_acc: 1.0000 - lr: 1.0000e-05\n"
     ]
    },
    {
     "name": "stdout",
     "output_type": "stream",
     "text": [
      "Epoch 31/50\n",
      "1/2 [==============>...............] - ETA: 0s - loss: 0.1128 - acc: 0.9688\n",
      "Epoch 00031: val_acc did not improve from 1.00000\n",
      "2/2 [==============================] - 0s 25ms/step - loss: 0.1440 - acc: 0.9487 - val_loss: 0.0223 - val_acc: 1.0000 - lr: 1.0000e-05\n",
      "Epoch 32/50\n",
      "1/2 [==============>...............] - ETA: 0s - loss: 0.1266 - acc: 1.0000\n",
      "Epoch 00032: val_acc did not improve from 1.00000\n",
      "2/2 [==============================] - 0s 36ms/step - loss: 0.1377 - acc: 0.9487 - val_loss: 0.0223 - val_acc: 1.0000 - lr: 1.0000e-05\n",
      "Epoch 33/50\n",
      "1/2 [==============>...............] - ETA: 0s - loss: 0.0571 - acc: 1.0000\n",
      "Epoch 00033: val_acc did not improve from 1.00000\n",
      "2/2 [==============================] - 0s 34ms/step - loss: 0.0772 - acc: 1.0000 - val_loss: 0.0223 - val_acc: 1.0000 - lr: 1.0000e-05\n",
      "Epoch 34/50\n",
      "1/2 [==============>...............] - ETA: 0s - loss: 0.1121 - acc: 0.9688\n",
      "Epoch 00034: val_acc did not improve from 1.00000\n",
      "2/2 [==============================] - 0s 27ms/step - loss: 0.1169 - acc: 0.9487 - val_loss: 0.0224 - val_acc: 1.0000 - lr: 1.0000e-05\n",
      "Epoch 35/50\n",
      "1/2 [==============>...............] - ETA: 0s - loss: 0.0820 - acc: 1.0000\n",
      "Epoch 00035: val_acc did not improve from 1.00000\n",
      "2/2 [==============================] - 0s 28ms/step - loss: 0.0879 - acc: 1.0000 - val_loss: 0.0223 - val_acc: 1.0000 - lr: 1.0000e-05\n",
      "Epoch 36/50\n",
      "1/2 [==============>...............] - ETA: 0s - loss: 0.1060 - acc: 1.0000\n",
      "Epoch 00036: val_acc did not improve from 1.00000\n",
      "2/2 [==============================] - 0s 25ms/step - loss: 0.1008 - acc: 1.0000 - val_loss: 0.0224 - val_acc: 1.0000 - lr: 1.0000e-05\n",
      "Epoch 37/50\n",
      "1/2 [==============>...............] - ETA: 0s - loss: 0.1032 - acc: 1.0000\n",
      "Epoch 00037: val_acc did not improve from 1.00000\n",
      "2/2 [==============================] - 0s 37ms/step - loss: 0.1213 - acc: 0.9231 - val_loss: 0.0223 - val_acc: 1.0000 - lr: 1.0000e-05\n",
      "Epoch 38/50\n",
      "1/2 [==============>...............] - ETA: 0s - loss: 0.1466 - acc: 0.9688\n",
      "Epoch 00038: val_acc did not improve from 1.00000\n",
      "2/2 [==============================] - 0s 22ms/step - loss: 0.1368 - acc: 0.9744 - val_loss: 0.0223 - val_acc: 1.0000 - lr: 1.0000e-05\n",
      "Epoch 39/50\n",
      "1/2 [==============>...............] - ETA: 0s - loss: 0.1314 - acc: 0.9375\n",
      "Epoch 00039: val_acc did not improve from 1.00000\n",
      "2/2 [==============================] - 0s 22ms/step - loss: 0.1180 - acc: 0.9487 - val_loss: 0.0223 - val_acc: 1.0000 - lr: 1.0000e-05\n",
      "Epoch 40/50\n",
      "1/2 [==============>...............] - ETA: 0s - loss: 0.0479 - acc: 1.0000\n",
      "Epoch 00040: val_acc did not improve from 1.00000\n",
      "2/2 [==============================] - 0s 32ms/step - loss: 0.1145 - acc: 0.9487 - val_loss: 0.0223 - val_acc: 1.0000 - lr: 1.0000e-05\n",
      "Epoch 41/50\n",
      "1/2 [==============>...............] - ETA: 0s - loss: 0.2070 - acc: 0.8438\n",
      "Epoch 00041: val_acc did not improve from 1.00000\n",
      "2/2 [==============================] - 0s 24ms/step - loss: 0.1875 - acc: 0.8718 - val_loss: 0.0222 - val_acc: 1.0000 - lr: 1.0000e-05\n",
      "Epoch 42/50\n",
      "1/2 [==============>...............] - ETA: 0s - loss: 0.0610 - acc: 1.0000\n",
      "Epoch 00042: val_acc did not improve from 1.00000\n",
      "2/2 [==============================] - 0s 33ms/step - loss: 0.0863 - acc: 0.9744 - val_loss: 0.0221 - val_acc: 1.0000 - lr: 1.0000e-05\n",
      "Epoch 43/50\n",
      "1/2 [==============>...............] - ETA: 0s - loss: 0.0893 - acc: 1.0000\n",
      "Epoch 00043: val_acc did not improve from 1.00000\n",
      "2/2 [==============================] - 0s 30ms/step - loss: 0.1121 - acc: 0.9744 - val_loss: 0.0218 - val_acc: 1.0000 - lr: 1.0000e-05\n",
      "Epoch 44/50\n",
      "1/2 [==============>...............] - ETA: 0s - loss: 0.1758 - acc: 1.0000\n",
      "Epoch 00044: val_acc did not improve from 1.00000\n",
      "2/2 [==============================] - 0s 31ms/step - loss: 0.0876 - acc: 1.0000 - val_loss: 0.0216 - val_acc: 1.0000 - lr: 1.0000e-05\n",
      "Epoch 45/50\n",
      "1/2 [==============>...............] - ETA: 0s - loss: 0.0492 - acc: 1.0000\n",
      "Epoch 00045: val_acc did not improve from 1.00000\n",
      "2/2 [==============================] - 0s 32ms/step - loss: 0.1270 - acc: 0.9231 - val_loss: 0.0215 - val_acc: 1.0000 - lr: 1.0000e-05\n",
      "Epoch 46/50\n",
      "1/2 [==============>...............] - ETA: 0s - loss: 0.1043 - acc: 0.9688\n",
      "Epoch 00046: val_acc did not improve from 1.00000\n",
      "2/2 [==============================] - 0s 24ms/step - loss: 0.1001 - acc: 0.9744 - val_loss: 0.0213 - val_acc: 1.0000 - lr: 1.0000e-05\n",
      "Epoch 47/50\n",
      "1/2 [==============>...............] - ETA: 0s - loss: 0.0947 - acc: 1.0000\n",
      "Epoch 00047: val_acc did not improve from 1.00000\n",
      "2/2 [==============================] - 0s 32ms/step - loss: 0.0968 - acc: 1.0000 - val_loss: 0.0213 - val_acc: 1.0000 - lr: 1.0000e-05\n",
      "Epoch 48/50\n",
      "1/2 [==============>...............] - ETA: 0s - loss: 0.0737 - acc: 1.0000\n",
      "Epoch 00048: val_acc did not improve from 1.00000\n",
      "2/2 [==============================] - 0s 34ms/step - loss: 0.0935 - acc: 1.0000 - val_loss: 0.0212 - val_acc: 1.0000 - lr: 1.0000e-05\n",
      "Epoch 49/50\n",
      "1/2 [==============>...............] - ETA: 0s - loss: 0.1208 - acc: 1.0000\n",
      "Epoch 00049: val_acc did not improve from 1.00000\n",
      "2/2 [==============================] - 0s 37ms/step - loss: 0.1075 - acc: 0.9487 - val_loss: 0.0213 - val_acc: 1.0000 - lr: 1.0000e-05\n",
      "Epoch 50/50\n",
      "1/2 [==============>...............] - ETA: 0s - loss: 0.0775 - acc: 1.0000\n",
      "Epoch 00050: val_acc did not improve from 1.00000\n",
      "2/2 [==============================] - 0s 31ms/step - loss: 0.0763 - acc: 1.0000 - val_loss: 0.0213 - val_acc: 1.0000 - lr: 1.0000e-05\n"
     ]
    },
    {
     "data": {
      "text/plain": [
       "<tensorflow.python.keras.callbacks.History at 0x1d336465610>"
      ]
     },
     "execution_count": 36,
     "metadata": {},
     "output_type": "execute_result"
    }
   ],
   "source": [
    "start_time = datetime.datetime.now().strftime('%Y_%m_%d_%H_%M_%S')\n",
    "\n",
    "model.fit_generator(\n",
    "    train_generator, epochs=50, validation_data=val_generator,\n",
    "    callbacks=[\n",
    "        ModelCheckpoint('./gaze_tracking/trained_models/%s.h5' % (start_time), monitor='val_acc', save_best_only=True, mode='max', verbose=1),\n",
    "        ReduceLROnPlateau(monitor='val_acc', factor=0.2, patience=10, verbose=1, mode='auto', min_lr=1e-05)\n",
    "    ]\n",
    ")"
   ]
  },
  {
   "cell_type": "code",
   "execution_count": 37,
   "metadata": {},
   "outputs": [
    {
     "name": "stdout",
     "output_type": "stream",
     "text": [
      "test acc: 1.0\n"
     ]
    },
    {
     "data": {
      "text/plain": [
       "<matplotlib.axes._subplots.AxesSubplot at 0x1d340672d30>"
      ]
     },
     "execution_count": 37,
     "metadata": {},
     "output_type": "execute_result"
    },
    {
     "data": {
      "image/png": "[encoded data removed]",
      "text/plain": [
       "<Figure size 432x288 with 2 Axes>"
      ]
     },
     "metadata": {},
     "output_type": "display_data"
    }
   ],
   "source": [
    "from sklearn.metrics import accuracy_score, confusion_matrix\n",
    "import seaborn as sns\n",
    "\n",
    "model = load_model('models/%s.h5' % (start_time))\n",
    "\n",
    "y_pred = model.predict(x_val/255.)\n",
    "y_pred_logical = (y_pred > 0.5).astype(np.int)\n",
    "\n",
    "print ('test acc: %s' % accuracy_score(y_val, y_pred_logical))\n",
    "cm = confusion_matrix(y_val, y_pred_logical)\n",
    "sns.heatmap(cm, annot=True)"
   ]
  },
  {
   "cell_type": "code",
   "execution_count": 38,
   "metadata": {},
   "outputs": [
    {
     "data": {
      "image/png": "[encoded data removed]",
      "text/plain": [
       "<Figure size 432x288 with 1 Axes>"
      ]
     },
     "metadata": {},
     "output_type": "display_data"
    }
   ],
   "source": [
    "ax = sns.distplot(y_pred, kde=False)"
   ]
  },
  {
   "cell_type": "markdown",
   "metadata": {},
   "source": [
    "# Preprocessing"
   ]
  },
  {
   "cell_type": "code",
   "execution_count": null,
   "metadata": {},
   "outputs": [],
   "source": [
    "start_time = datetime.datetime.now().strftime('%Y_%m_%d_%H_%M_%S')\n",
    "\n",
    "model.fit_generator(\n",
    "    train_generator, epochs=50, validation_data=validation_generator,\n",
    "    callbacks=[\n",
    "        ModelCheckpoint('models/%s.h5' % (start_time), monitor='val_acc', save_best_only=True, mode='max', verbose=1),\n",
    "        ReduceLROnPlateau(monitor='val_acc', factor=0.2, patience=10, verbose=1, mode='auto', min_lr=1e-05)\n",
    "    ]\n",
    ")"
   ]
  },
  {
   "cell_type": "code",
   "execution_count": null,
   "metadata": {},
   "outputs": [],
   "source": [
    "n_total = len(X)\n",
    "X_result = np.empty((n_total, 26, 34, 1))\n",
    "\n",
    "for i, x in enumerate(X):\n",
    "    img = x.reshape((26, 34, 1))\n",
    "    \n",
    "    X_result[i] = img"
   ]
  },
  {
   "cell_type": "code",
   "execution_count": null,
   "metadata": {},
   "outputs": [],
   "source": [
    "from sklearn.model_selection import train_test_split\n",
    "\n",
    "x_train, x_val, y_train, y_val = train_test_split(X_result, y, test_size=0.1)\n",
    "\n",
    "print(x_train.shape, y_train.shape)\n",
    "print(x_val.shape, y_val.shape)\n",
    "\n",
    "np.save('dataset/x_train.npy', x_train)\n",
    "np.save('dataset/y_train.npy', y_train)\n",
    "np.save('dataset/x_val.npy', x_val)\n",
    "np.save('dataset/y_val.npy', y_val)"
   ]
  },
  {
   "cell_type": "code",
   "execution_count": null,
   "metadata": {},
   "outputs": [],
   "source": [
    "plt.subplot(2, 1, 1)\n",
    "plt.title(str(y_train[0]))\n",
    "plt.imshow(x_train[0].reshape((26, 34)), cmap='gray')\n",
    "plt.subplot(2, 1, 2)\n",
    "plt.title(str(y_val[4]))\n",
    "plt.imshow(x_val[4].reshape((26, 34)), cmap='gray')"
   ]
  },
  {
   "cell_type": "code",
   "execution_count": null,
   "metadata": {},
   "outputs": [],
   "source": [
    "sns.distplot(y_train, kde=False)"
   ]
  },
  {
   "cell_type": "code",
   "execution_count": null,
   "metadata": {},
   "outputs": [],
   "source": [
    "sns.distplot(y_val, kde=False)"
   ]
  },
  {
   "cell_type": "code",
   "execution_count": null,
   "metadata": {},
   "outputs": [],
   "source": []
  }
 ],
 "metadata": {
  "kernelspec": {
   "display_name": "Python 3",
   "language": "python",
   "name": "python3"
  },
  "language_info": {
   "codemirror_mode": {
    "name": "ipython",
    "version": 3
   },
   "file_extension": ".py",
   "mimetype": "text/x-python",
   "name": "python",
   "nbconvert_exporter": "python",
   "pygments_lexer": "ipython3",
   "version": "3.8.3"
  }
 },
 "nbformat": 4,
 "nbformat_minor": 2
}