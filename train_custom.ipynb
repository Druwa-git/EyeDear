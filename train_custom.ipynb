{
 "cells": [
  {
   "cell_type": "code",
   "execution_count": 6,
   "metadata": {},
   "outputs": [],
   "source": [
    "import matplotlib.pyplot as plt\n",
    "import os, glob, cv2, random\n",
    "import seaborn as sns\n",
    "import pandas as pd\n",
    "from PIL import Image\n",
    "import tensorflow as tf\n",
    "from tensorflow import keras\n",
    "import numpy as np"
   ]
  },
  {
   "cell_type": "markdown",
   "metadata": {},
   "source": [
    "# Preview"
   ]
  },
  {
   "cell_type": "code",
   "execution_count": 7,
   "metadata": {},
   "outputs": [],
   "source": [
    "path = \"./dataset/\"\n",
    "\n",
    "# 학습 데이터 준비 \n",
    "filenames = os.listdir(path)\n",
    "X=[]\n",
    "y=[]\n",
    "categories=[]\n",
    "for filename in filenames:\n",
    "    image = Image.open(path + filename)\n",
    "    \n",
    "    image = np.array(image)\n",
    "    X.append(image)\n",
    "    category=filename.split(\"_\")[0]\n",
    "    if category ==\"close\":\n",
    "        y.append([0])\n",
    "    else:\n",
    "        y.append([1])"
   ]
  },
  {
   "cell_type": "code",
   "execution_count": 8,
   "metadata": {},
   "outputs": [],
   "source": [
    "X = np.array(X)\n",
    "y = np.array(y)"
   ]
  },
  {
   "cell_type": "code",
   "execution_count": 9,
   "metadata": {},
   "outputs": [
    {
     "data": {
      "text/plain": [
       "((42, 26, 34), (42, 1))"
      ]
     },
     "execution_count": 9,
     "metadata": {},
     "output_type": "execute_result"
    }
   ],
   "source": [
    "X.shape, y.shape"
   ]
  },
  {
   "cell_type": "code",
   "execution_count": 10,
   "metadata": {},
   "outputs": [],
   "source": [
    "n_total = len(X)\n",
    "X_result = np.empty((n_total, 26, 34,1))"
   ]
  },
  {
   "cell_type": "code",
   "execution_count": 11,
   "metadata": {},
   "outputs": [],
   "source": [
    "for i, x in enumerate(X):\n",
    "    img = x.reshape((26, 34,1))\n",
    "    \n",
    "    X_result[i] = img"
   ]
  },
  {
   "cell_type": "code",
   "execution_count": 12,
   "metadata": {},
   "outputs": [
    {
     "name": "stdout",
     "output_type": "stream",
     "text": [
      "(37, 26, 34, 1) (37, 1)\n",
      "(5, 26, 34, 1) (5, 1)\n"
     ]
    }
   ],
   "source": [
    "from sklearn.model_selection import train_test_split\n",
    "\n",
    "x_train, x_val, y_train, y_val = train_test_split(X_result, y, test_size=0.1)\n",
    "\n",
    "print(x_train.shape, y_train.shape)\n",
    "print(x_val.shape, y_val.shape)\n",
    "\n",
    "np.save('dataset/x_train.npy', x_train)\n",
    "np.save('dataset/y_train.npy', y_train)\n",
    "np.save('dataset/x_val.npy', x_val)\n",
    "np.save('dataset/y_val.npy', y_val)"
   ]
  },
  {
   "cell_type": "code",
   "execution_count": 13,
   "metadata": {},
   "outputs": [
    {
     "data": {
      "text/plain": [
       "<matplotlib.image.AxesImage at 0x1b7484e18e0>"
      ]
     },
     "execution_count": 13,
     "metadata": {},
     "output_type": "execute_result"
    },
    {
     "data": {
      "image/png": "[encoded data removed]",
      "text/plain": [
       "<Figure size 432x288 with 2 Axes>"
      ]
     },
     "metadata": {
      "needs_background": "light"
     },
     "output_type": "display_data"
    }
   ],
   "source": [
    "plt.subplot(2, 1, 1)\n",
    "plt.title(str(y_train[0]))\n",
    "plt.imshow(x_train[0].reshape((26, 34)), cmap='gray')\n",
    "plt.subplot(2, 1, 2)\n",
    "plt.title(str(y_val[3]))\n",
    "plt.imshow(x_val[3].reshape((26, 34)), cmap='gray')"
   ]
  },
  {
   "cell_type": "code",
   "execution_count": 14,
   "metadata": {},
   "outputs": [
    {
     "name": "stderr",
     "output_type": "stream",
     "text": [
      "C:\\Users\\wbsl0\\AppData\\Local\\Packages\\PythonSoftwareFoundation.Python.3.8_qbz5n2kfra8p0\\LocalCache\\local-packages\\Python38\\site-packages\\seaborn\\distributions.py:2557: FutureWarning: `distplot` is a deprecated function and will be removed in a future version. Please adapt your code to use either `displot` (a figure-level function with similar flexibility) or `histplot` (an axes-level function for histograms).\n",
      "  warnings.warn(msg, FutureWarning)\n"
     ]
    },
    {
     "data": {
      "text/plain": [
       "<AxesSubplot:>"
      ]
     },
     "execution_count": 14,
     "metadata": {},
     "output_type": "execute_result"
    },
    {
     "data": {
      "image/png": "[encoded data removed]",
      "text/plain": [
       "<Figure size 432x288 with 1 Axes>"
      ]
     },
     "metadata": {
      "needs_background": "light"
     },
     "output_type": "display_data"
    }
   ],
   "source": [
    "sns.distplot(y_train, kde=False)"
   ]
  },
  {
   "cell_type": "code",
   "execution_count": 15,
   "metadata": {},
   "outputs": [
    {
     "data": {
      "text/plain": [
       "<AxesSubplot:>"
      ]
     },
     "execution_count": 15,
     "metadata": {},
     "output_type": "execute_result"
    },
    {
     "data": {
      "image/png": "[encoded data removed]",
      "text/plain": [
       "<Figure size 432x288 with 1 Axes>"
      ]
     },
     "metadata": {
      "needs_background": "light"
     },
     "output_type": "display_data"
    }
   ],
   "source": [
    "sns.distplot(y_val, kde=False)"
   ]
  },
  {
   "cell_type": "code",
   "execution_count": 16,
   "metadata": {},
   "outputs": [],
   "source": [
    "import datetime\n",
    "import numpy as np\n",
    "import matplotlib.pyplot as plt\n",
    "from keras.layers import Input, Activation, Conv2D, Flatten, Dense, MaxPooling2D\n",
    "from keras.models import Model, load_model\n",
    "from keras.preprocessing.image import ImageDataGenerator\n",
    "from keras.callbacks import ModelCheckpoint, ReduceLROnPlateau\n",
    "plt.style.use('dark_background')"
   ]
  },
  {
   "cell_type": "code",
   "execution_count": 17,
   "metadata": {},
   "outputs": [
    {
     "name": "stdout",
     "output_type": "stream",
     "text": [
      "(37, 26, 34, 1) (37, 1)\n",
      "(5, 26, 34, 1) (5, 1)\n"
     ]
    }
   ],
   "source": [
    "x_train2 = np.load('dataset/x_train.npy').astype(np.float32)\n",
    "y_train2 = np.load('dataset/y_train.npy').astype(np.float32)\n",
    "x_val2 = np.load('dataset/x_val.npy').astype(np.float32)\n",
    "y_val2 = np.load('dataset/y_val.npy').astype(np.float32)\n",
    "\n",
    "print(x_train2.shape, y_train2.shape)\n",
    "print(x_val2.shape, y_val2.shape)"
   ]
  },
  {
   "cell_type": "code",
   "execution_count": 18,
   "metadata": {},
   "outputs": [
    {
     "name": "stdout",
     "output_type": "stream",
     "text": [
      "(2586, 26, 34, 1) (2586, 1)\n",
      "(288, 26, 34, 1) (288, 1)\n"
     ]
    }
   ],
   "source": [
    "x_train1 = np.load('make_model/dataset/x_train.npy').astype(np.float32)\n",
    "y_train1 = np.load('make_model/dataset/y_train.npy').astype(np.float32)\n",
    "x_val1 = np.load('make_model/dataset/x_val.npy').astype(np.float32)\n",
    "y_val1 = np.load('make_model/dataset/y_val.npy').astype(np.float32)\n",
    "\n",
    "print(x_train1.shape, y_train1.shape)\n",
    "print(x_val1.shape, y_val1.shape)"
   ]
  },
  {
   "cell_type": "code",
   "execution_count": 19,
   "metadata": {},
   "outputs": [
    {
     "name": "stdout",
     "output_type": "stream",
     "text": [
      "(2623, 26, 34, 1) (2623, 1)\n",
      "(293, 26, 34, 1) (293, 1)\n"
     ]
    }
   ],
   "source": [
    "x_train = np.concatenate((x_train1,x_train2),axis=0)\n",
    "y_train = np.concatenate((y_train1,y_train2),axis=0)\n",
    "x_val = np.concatenate((x_val1,x_val2),axis=0)\n",
    "y_val = np.concatenate((y_val1,y_val2),axis=0)\n",
    "\n",
    "print(x_train.shape, y_train.shape)\n",
    "print(x_val.shape, y_val.shape)"
   ]
  },
  {
   "cell_type": "code",
   "execution_count": 20,
   "metadata": {},
   "outputs": [
    {
     "data": {
      "text/plain": [
       "<matplotlib.image.AxesImage at 0x1b7491cda30>"
      ]
     },
     "execution_count": 20,
     "metadata": {},
     "output_type": "execute_result"
    },
    {
     "data": {
      "image/png": "[encoded data removed]",
      "text/plain": [
       "<Figure size 432x288 with 2 Axes>"
      ]
     },
     "metadata": {},
     "output_type": "display_data"
    }
   ],
   "source": [
    "plt.subplot(2, 1, 1)\n",
    "plt.title(str(y_train[0]))\n",
    "plt.imshow(x_train[0].reshape((26, 34)), cmap='gray')\n",
    "plt.subplot(2, 1, 2)\n",
    "plt.title(str(y_val[4]))\n",
    "plt.imshow(x_val[4].reshape((26, 34)), cmap='gray')"
   ]
  },
  {
   "cell_type": "code",
   "execution_count": 21,
   "metadata": {},
   "outputs": [],
   "source": [
    "train_datagen = ImageDataGenerator(\n",
    "    rescale=1./255,\n",
    "    rotation_range=10,\n",
    "    width_shift_range=0.2,\n",
    "    height_shift_range=0.2,\n",
    "    shear_range=0.2\n",
    ")\n",
    "\n",
    "val_datagen = ImageDataGenerator(rescale=1./255)\n",
    "\n",
    "train_generator = train_datagen.flow(\n",
    "    x=x_train, y=y_train,\n",
    "    batch_size=32,\n",
    "    shuffle=True\n",
    ")\n",
    "\n",
    "val_generator = val_datagen.flow(\n",
    "    x=x_val, y=y_val,\n",
    "    batch_size=32,\n",
    "    shuffle=False\n",
    ")"
   ]
  },
  {
   "cell_type": "code",
   "execution_count": 22,
   "metadata": {},
   "outputs": [
    {
     "name": "stdout",
     "output_type": "stream",
     "text": [
      "Model: \"model\"\n",
      "_________________________________________________________________\n",
      "Layer (type)                 Output Shape              Param #   \n",
      "=================================================================\n",
      "input_1 (InputLayer)         [(None, 26, 34, 1)]       0         \n",
      "_________________________________________________________________\n",
      "conv2d (Conv2D)              (None, 26, 34, 32)        320       \n",
      "_________________________________________________________________\n",
      "max_pooling2d (MaxPooling2D) (None, 13, 17, 32)        0         \n",
      "_________________________________________________________________\n",
      "conv2d_1 (Conv2D)            (None, 13, 17, 64)        18496     \n",
      "_________________________________________________________________\n",
      "max_pooling2d_1 (MaxPooling2 (None, 6, 8, 64)          0         \n",
      "_________________________________________________________________\n",
      "conv2d_2 (Conv2D)            (None, 6, 8, 128)         73856     \n",
      "_________________________________________________________________\n",
      "max_pooling2d_2 (MaxPooling2 (None, 3, 4, 128)         0         \n",
      "_________________________________________________________________\n",
      "flatten (Flatten)            (None, 1536)              0         \n",
      "_________________________________________________________________\n",
      "dense (Dense)                (None, 512)               786944    \n",
      "_________________________________________________________________\n",
      "activation (Activation)      (None, 512)               0         \n",
      "_________________________________________________________________\n",
      "dense_1 (Dense)              (None, 1)                 513       \n",
      "_________________________________________________________________\n",
      "activation_1 (Activation)    (None, 1)                 0         \n",
      "=================================================================\n",
      "Total params: 880,129\n",
      "Trainable params: 880,129\n",
      "Non-trainable params: 0\n",
      "_________________________________________________________________\n"
     ]
    }
   ],
   "source": [
    "inputs = Input(shape=(26, 34, 1))\n",
    "\n",
    "net = Conv2D(32, kernel_size=3, strides=1, padding='same', activation='relu')(inputs)\n",
    "net = MaxPooling2D(pool_size=2)(net)\n",
    "\n",
    "net = Conv2D(64, kernel_size=3, strides=1, padding='same', activation='relu')(net)\n",
    "net = MaxPooling2D(pool_size=2)(net)\n",
    "\n",
    "net = Conv2D(128, kernel_size=3, strides=1, padding='same', activation='relu')(net)\n",
    "net = MaxPooling2D(pool_size=2)(net)\n",
    "\n",
    "net = Flatten()(net)\n",
    "\n",
    "net = Dense(512)(net)\n",
    "net = Activation('relu')(net)\n",
    "net = Dense(1)(net)\n",
    "outputs = Activation('sigmoid')(net)\n",
    "\n",
    "model = Model(inputs=inputs, outputs=outputs)\n",
    "\n",
    "model.compile(optimizer='adam', loss='binary_crossentropy', metrics=['acc'])\n",
    "\n",
    "model.summary()"
   ]
  },
  {
   "cell_type": "code",
   "execution_count": 23,
   "metadata": {},
   "outputs": [
    {
     "name": "stdout",
     "output_type": "stream",
     "text": [
      "Epoch 1/50\n"
     ]
    },
    {
     "name": "stderr",
     "output_type": "stream",
     "text": [
      "C:\\Users\\wbsl0\\AppData\\Local\\Packages\\PythonSoftwareFoundation.Python.3.8_qbz5n2kfra8p0\\LocalCache\\local-packages\\Python38\\site-packages\\keras\\engine\\training.py:1915: UserWarning: `Model.fit_generator` is deprecated and will be removed in a future version. Please use `Model.fit`, which supports generators.\n",
      "  warnings.warn('`Model.fit_generator` is deprecated and '\n"
     ]
    },
    {
     "name": "stdout",
     "output_type": "stream",
     "text": [
      "82/82 [==============================] - 18s 30ms/step - loss: 0.5667 - acc: 0.6783 - val_loss: 0.2359 - val_acc: 0.8942\n",
      "\n",
      "Epoch 00001: val_acc improved from -inf to 0.89420, saving model to ./gaze_tracking/trained_models\\2021_07_12_15_20_04.h5\n",
      "Epoch 2/50\n",
      "82/82 [==============================] - 2s 27ms/step - loss: 0.2863 - acc: 0.8876 - val_loss: 0.1234 - val_acc: 0.9488\n",
      "\n",
      "Epoch 00002: val_acc improved from 0.89420 to 0.94881, saving model to ./gaze_tracking/trained_models\\2021_07_12_15_20_04.h5\n",
      "Epoch 3/50\n",
      "82/82 [==============================] - 2s 28ms/step - loss: 0.1868 - acc: 0.9319 - val_loss: 0.0708 - val_acc: 0.9727\n",
      "\n",
      "Epoch 00003: val_acc improved from 0.94881 to 0.97270, saving model to ./gaze_tracking/trained_models\\2021_07_12_15_20_04.h5\n",
      "Epoch 4/50\n",
      "82/82 [==============================] - 2s 28ms/step - loss: 0.1459 - acc: 0.9461 - val_loss: 0.0890 - val_acc: 0.9659\n",
      "\n",
      "Epoch 00004: val_acc did not improve from 0.97270\n",
      "Epoch 5/50\n",
      "82/82 [==============================] - 2s 28ms/step - loss: 0.1056 - acc: 0.9562 - val_loss: 0.0428 - val_acc: 0.9966\n",
      "\n",
      "Epoch 00005: val_acc improved from 0.97270 to 0.99659, saving model to ./gaze_tracking/trained_models\\2021_07_12_15_20_04.h5\n",
      "Epoch 6/50\n",
      "82/82 [==============================] - 2s 27ms/step - loss: 0.1083 - acc: 0.9652 - val_loss: 0.0868 - val_acc: 0.9727\n",
      "\n",
      "Epoch 00006: val_acc did not improve from 0.99659\n",
      "Epoch 7/50\n",
      "82/82 [==============================] - 2s 28ms/step - loss: 0.1096 - acc: 0.9606 - val_loss: 0.0279 - val_acc: 0.9932\n",
      "\n",
      "Epoch 00007: val_acc did not improve from 0.99659\n",
      "Epoch 8/50\n",
      "82/82 [==============================] - 2s 27ms/step - loss: 0.0814 - acc: 0.9731 - val_loss: 0.0290 - val_acc: 0.9898\n",
      "\n",
      "Epoch 00008: val_acc did not improve from 0.99659\n",
      "Epoch 9/50\n",
      "82/82 [==============================] - 2s 27ms/step - loss: 0.0565 - acc: 0.9812 - val_loss: 0.0197 - val_acc: 0.9932\n",
      "\n",
      "Epoch 00009: val_acc did not improve from 0.99659\n",
      "Epoch 10/50\n",
      "82/82 [==============================] - 2s 27ms/step - loss: 0.0431 - acc: 0.9872 - val_loss: 0.0658 - val_acc: 0.9795\n",
      "\n",
      "Epoch 00010: val_acc did not improve from 0.99659\n",
      "Epoch 11/50\n",
      "82/82 [==============================] - 2s 27ms/step - loss: 0.0694 - acc: 0.9762 - val_loss: 0.0750 - val_acc: 0.9795\n",
      "\n",
      "Epoch 00011: val_acc did not improve from 0.99659\n",
      "Epoch 12/50\n",
      "82/82 [==============================] - 2s 27ms/step - loss: 0.0562 - acc: 0.9808 - val_loss: 0.0180 - val_acc: 0.9932\n",
      "\n",
      "Epoch 00012: val_acc did not improve from 0.99659\n",
      "Epoch 13/50\n",
      "82/82 [==============================] - 2s 27ms/step - loss: 0.0529 - acc: 0.9803 - val_loss: 0.0672 - val_acc: 0.9795\n",
      "\n",
      "Epoch 00013: val_acc did not improve from 0.99659\n",
      "Epoch 14/50\n",
      "82/82 [==============================] - 2s 27ms/step - loss: 0.0568 - acc: 0.9837 - val_loss: 0.0138 - val_acc: 0.9932\n",
      "\n",
      "Epoch 00014: val_acc did not improve from 0.99659\n",
      "Epoch 15/50\n",
      "82/82 [==============================] - 2s 27ms/step - loss: 0.0418 - acc: 0.9881 - val_loss: 0.0187 - val_acc: 0.9932\n",
      "\n",
      "Epoch 00015: val_acc did not improve from 0.99659\n",
      "\n",
      "Epoch 00015: ReduceLROnPlateau reducing learning rate to 0.00020000000949949026.\n",
      "Epoch 16/50\n",
      "82/82 [==============================] - 2s 27ms/step - loss: 0.0385 - acc: 0.9891 - val_loss: 0.0138 - val_acc: 0.9932\n",
      "\n",
      "Epoch 00016: val_acc did not improve from 0.99659\n",
      "Epoch 17/50\n",
      "82/82 [==============================] - 2s 27ms/step - loss: 0.0282 - acc: 0.9915 - val_loss: 0.0141 - val_acc: 0.9932\n",
      "\n",
      "Epoch 00017: val_acc did not improve from 0.99659\n",
      "Epoch 18/50\n",
      "82/82 [==============================] - 2s 27ms/step - loss: 0.0359 - acc: 0.9902 - val_loss: 0.0170 - val_acc: 0.9932\n",
      "\n",
      "Epoch 00018: val_acc did not improve from 0.99659\n",
      "Epoch 19/50\n",
      "82/82 [==============================] - 2s 27ms/step - loss: 0.0379 - acc: 0.9892 - val_loss: 0.0165 - val_acc: 0.9932\n",
      "\n",
      "Epoch 00019: val_acc did not improve from 0.99659\n",
      "Epoch 20/50\n",
      "82/82 [==============================] - 2s 27ms/step - loss: 0.0224 - acc: 0.9935 - val_loss: 0.0156 - val_acc: 0.9932\n",
      "\n",
      "Epoch 00020: val_acc did not improve from 0.99659\n",
      "Epoch 21/50\n",
      "82/82 [==============================] - 2s 28ms/step - loss: 0.0280 - acc: 0.9890 - val_loss: 0.0126 - val_acc: 1.0000\n",
      "\n",
      "Epoch 00021: val_acc improved from 0.99659 to 1.00000, saving model to ./gaze_tracking/trained_models\\2021_07_12_15_20_04.h5\n",
      "Epoch 22/50\n",
      "82/82 [==============================] - 2s 29ms/step - loss: 0.0297 - acc: 0.9942 - val_loss: 0.0188 - val_acc: 0.9932\n",
      "\n",
      "Epoch 00022: val_acc did not improve from 1.00000\n",
      "Epoch 23/50\n",
      "82/82 [==============================] - 2s 28ms/step - loss: 0.0140 - acc: 0.9961 - val_loss: 0.0112 - val_acc: 0.9932\n",
      "\n",
      "Epoch 00023: val_acc did not improve from 1.00000\n",
      "Epoch 24/50\n",
      "82/82 [==============================] - 2s 27ms/step - loss: 0.0161 - acc: 0.9946 - val_loss: 0.0120 - val_acc: 0.9932\n",
      "\n",
      "Epoch 00024: val_acc did not improve from 1.00000\n",
      "Epoch 25/50\n",
      "82/82 [==============================] - 2s 28ms/step - loss: 0.0155 - acc: 0.9950 - val_loss: 0.0141 - val_acc: 0.9966\n",
      "\n",
      "Epoch 00025: val_acc did not improve from 1.00000\n",
      "Epoch 26/50\n",
      "82/82 [==============================] - 2s 28ms/step - loss: 0.0256 - acc: 0.9912 - val_loss: 0.0075 - val_acc: 1.0000\n",
      "\n",
      "Epoch 00026: val_acc did not improve from 1.00000\n",
      "Epoch 27/50\n",
      "82/82 [==============================] - 2s 28ms/step - loss: 0.0195 - acc: 0.9938 - val_loss: 0.0125 - val_acc: 0.9932\n",
      "\n",
      "Epoch 00027: val_acc did not improve from 1.00000\n",
      "Epoch 28/50\n",
      "82/82 [==============================] - 2s 29ms/step - loss: 0.0199 - acc: 0.9930 - val_loss: 0.0164 - val_acc: 0.9966\n",
      "\n",
      "Epoch 00028: val_acc did not improve from 1.00000\n",
      "Epoch 29/50\n",
      "82/82 [==============================] - 2s 29ms/step - loss: 0.0167 - acc: 0.9934 - val_loss: 0.0158 - val_acc: 0.9966\n",
      "\n",
      "Epoch 00029: val_acc did not improve from 1.00000\n",
      "Epoch 30/50\n",
      "82/82 [==============================] - 2s 29ms/step - loss: 0.0158 - acc: 0.9954 - val_loss: 0.0128 - val_acc: 0.9966\n",
      "\n",
      "Epoch 00030: val_acc did not improve from 1.00000\n",
      "Epoch 31/50\n",
      "82/82 [==============================] - 2s 29ms/step - loss: 0.0167 - acc: 0.9948 - val_loss: 0.0091 - val_acc: 0.9966\n",
      "\n",
      "Epoch 00031: val_acc did not improve from 1.00000\n",
      "\n",
      "Epoch 00031: ReduceLROnPlateau reducing learning rate to 4.0000001899898055e-05.\n",
      "Epoch 32/50\n",
      "82/82 [==============================] - 2s 30ms/step - loss: 0.0125 - acc: 0.9968 - val_loss: 0.0122 - val_acc: 0.9966\n",
      "\n",
      "Epoch 00032: val_acc did not improve from 1.00000\n",
      "Epoch 33/50\n",
      "82/82 [==============================] - 2s 29ms/step - loss: 0.0147 - acc: 0.9957 - val_loss: 0.0105 - val_acc: 0.9966\n",
      "\n",
      "Epoch 00033: val_acc did not improve from 1.00000\n",
      "Epoch 34/50\n",
      "82/82 [==============================] - 2s 28ms/step - loss: 0.0109 - acc: 0.9960 - val_loss: 0.0121 - val_acc: 0.9966\n",
      "\n",
      "Epoch 00034: val_acc did not improve from 1.00000\n",
      "Epoch 35/50\n",
      "82/82 [==============================] - 2s 28ms/step - loss: 0.0122 - acc: 0.9960 - val_loss: 0.0119 - val_acc: 0.9966\n",
      "\n",
      "Epoch 00035: val_acc did not improve from 1.00000\n",
      "Epoch 36/50\n",
      "82/82 [==============================] - 2s 28ms/step - loss: 0.0152 - acc: 0.9976 - val_loss: 0.0088 - val_acc: 0.9966\n",
      "\n",
      "Epoch 00036: val_acc did not improve from 1.00000\n",
      "Epoch 37/50\n",
      "82/82 [==============================] - 2s 28ms/step - loss: 0.0180 - acc: 0.9942 - val_loss: 0.0073 - val_acc: 0.9966\n",
      "\n",
      "Epoch 00037: val_acc did not improve from 1.00000\n",
      "Epoch 38/50\n",
      "82/82 [==============================] - 2s 29ms/step - loss: 0.0115 - acc: 0.9959 - val_loss: 0.0081 - val_acc: 0.9966\n",
      "\n",
      "Epoch 00038: val_acc did not improve from 1.00000\n",
      "Epoch 39/50\n",
      "82/82 [==============================] - 2s 28ms/step - loss: 0.0135 - acc: 0.9968 - val_loss: 0.0071 - val_acc: 0.9966\n",
      "\n",
      "Epoch 00039: val_acc did not improve from 1.00000\n",
      "Epoch 40/50\n",
      "82/82 [==============================] - 2s 29ms/step - loss: 0.0120 - acc: 0.9946 - val_loss: 0.0090 - val_acc: 0.9966\n",
      "\n",
      "Epoch 00040: val_acc did not improve from 1.00000\n",
      "Epoch 41/50\n",
      "82/82 [==============================] - 3s 32ms/step - loss: 0.0140 - acc: 0.9950 - val_loss: 0.0075 - val_acc: 0.9966\n",
      "\n",
      "Epoch 00041: val_acc did not improve from 1.00000\n",
      "\n",
      "Epoch 00041: ReduceLROnPlateau reducing learning rate to 1e-05.\n",
      "Epoch 42/50\n",
      "82/82 [==============================] - 2s 29ms/step - loss: 0.0113 - acc: 0.9950 - val_loss: 0.0082 - val_acc: 0.9966\n"
     ]
    },
    {
     "name": "stdout",
     "output_type": "stream",
     "text": [
      "\n",
      "Epoch 00042: val_acc did not improve from 1.00000\n",
      "Epoch 43/50\n",
      "82/82 [==============================] - 2s 28ms/step - loss: 0.0088 - acc: 0.9977 - val_loss: 0.0076 - val_acc: 0.9966\n",
      "\n",
      "Epoch 00043: val_acc did not improve from 1.00000\n",
      "Epoch 44/50\n",
      "82/82 [==============================] - 2s 30ms/step - loss: 0.0095 - acc: 0.9968 - val_loss: 0.0078 - val_acc: 0.9966\n",
      "\n",
      "Epoch 00044: val_acc did not improve from 1.00000\n",
      "Epoch 45/50\n",
      "82/82 [==============================] - 2s 29ms/step - loss: 0.0142 - acc: 0.9946 - val_loss: 0.0087 - val_acc: 0.9966\n",
      "\n",
      "Epoch 00045: val_acc did not improve from 1.00000\n",
      "Epoch 46/50\n",
      "82/82 [==============================] - 2s 29ms/step - loss: 0.0132 - acc: 0.9959 - val_loss: 0.0089 - val_acc: 0.9966\n",
      "\n",
      "Epoch 00046: val_acc did not improve from 1.00000\n",
      "Epoch 47/50\n",
      "82/82 [==============================] - 3s 32ms/step - loss: 0.0092 - acc: 0.9977 - val_loss: 0.0092 - val_acc: 0.9966\n",
      "\n",
      "Epoch 00047: val_acc did not improve from 1.00000\n",
      "Epoch 48/50\n",
      "82/82 [==============================] - 2s 28ms/step - loss: 0.0139 - acc: 0.9945 - val_loss: 0.0082 - val_acc: 0.9966\n",
      "\n",
      "Epoch 00048: val_acc did not improve from 1.00000\n",
      "Epoch 49/50\n",
      "82/82 [==============================] - 2s 29ms/step - loss: 0.0114 - acc: 0.9971 - val_loss: 0.0090 - val_acc: 0.9966\n",
      "\n",
      "Epoch 00049: val_acc did not improve from 1.00000\n",
      "Epoch 50/50\n",
      "82/82 [==============================] - 2s 28ms/step - loss: 0.0083 - acc: 0.9984 - val_loss: 0.0079 - val_acc: 0.9966\n",
      "\n",
      "Epoch 00050: val_acc did not improve from 1.00000\n"
     ]
    },
    {
     "data": {
      "text/plain": [
       "<keras.callbacks.History at 0x1b7494a1070>"
      ]
     },
     "execution_count": 23,
     "metadata": {},
     "output_type": "execute_result"
    }
   ],
   "source": [
    "start_time = datetime.datetime.now().strftime('%Y_%m_%d_%H_%M_%S')\n",
    "\n",
    "model.fit_generator(\n",
    "    train_generator, epochs=50, validation_data=val_generator,\n",
    "    callbacks=[\n",
    "        ModelCheckpoint('./gaze_tracking/trained_models/%s.h5' % (start_time), monitor='val_acc', save_best_only=True, mode='max', verbose=1),\n",
    "        ReduceLROnPlateau(monitor='val_acc', factor=0.2, patience=10, verbose=1, mode='auto', min_lr=1e-05)\n",
    "    ]\n",
    ")"
   ]
  },
  {
   "cell_type": "code",
   "execution_count": 24,
   "metadata": {},
   "outputs": [
    {
     "name": "stdout",
     "output_type": "stream",
     "text": [
      "test acc: 1.0\n"
     ]
    },
    {
     "data": {
      "text/plain": [
       "<AxesSubplot:>"
      ]
     },
     "execution_count": 24,
     "metadata": {},
     "output_type": "execute_result"
    },
    {
     "data": {
      "image/png": "[encoded data removed]",
      "text/plain": [
       "<Figure size 432x288 with 2 Axes>"
      ]
     },
     "metadata": {},
     "output_type": "display_data"
    }
   ],
   "source": [
    "from sklearn.metrics import accuracy_score, confusion_matrix\n",
    "import seaborn as sns\n",
    "\n",
    "model = load_model('./gaze_tracking/trained_models/%s.h5' % (start_time))\n",
    "\n",
    "y_pred = model.predict(x_val/255.)\n",
    "y_pred_logical = (y_pred > 0.5).astype(np.int)\n",
    "\n",
    "print ('test acc: %s' % accuracy_score(y_val, y_pred_logical))\n",
    "cm = confusion_matrix(y_val, y_pred_logical)\n",
    "sns.heatmap(cm, annot=True)"
   ]
  },
  {
   "cell_type": "code",
   "execution_count": 27,
   "metadata": {},
   "outputs": [
    {
     "name": "stdout",
     "output_type": "stream",
     "text": [
      "test acc: 1.0\n"
     ]
    },
    {
     "data": {
      "text/plain": [
       "<AxesSubplot:>"
      ]
     },
     "execution_count": 27,
     "metadata": {},
     "output_type": "execute_result"
    },
    {
     "data": {
      "image/png": "[encoded data removed]",
      "text/plain": [
       "<Figure size 432x288 with 2 Axes>"
      ]
     },
     "metadata": {},
     "output_type": "display_data"
    }
   ],
   "source": [
    "model = load_model('./gaze_tracking/trained_models/2018_12_17_22_58_35.h5')\n",
    "\n",
    "y_pred = model.predict(x_val/255.)\n",
    "y_pred_logical = (y_pred > 0.5).astype(np.int)\n",
    "\n",
    "print ('test acc: %s' % accuracy_score(y_val, y_pred_logical))\n",
    "cm = confusion_matrix(y_val, y_pred_logical)\n",
    "sns.heatmap(cm, annot=True)"
   ]
  },
  {
   "cell_type": "code",
   "execution_count": 25,
   "metadata": {},
   "outputs": [
    {
     "name": "stderr",
     "output_type": "stream",
     "text": [
      "C:\\Users\\wbsl0\\AppData\\Local\\Packages\\PythonSoftwareFoundation.Python.3.8_qbz5n2kfra8p0\\LocalCache\\local-packages\\Python38\\site-packages\\seaborn\\distributions.py:2557: FutureWarning: `distplot` is a deprecated function and will be removed in a future version. Please adapt your code to use either `displot` (a figure-level function with similar flexibility) or `histplot` (an axes-level function for histograms).\n",
      "  warnings.warn(msg, FutureWarning)\n"
     ]
    },
    {
     "data": {
      "image/png": "[encoded data removed]",
      "text/plain": [
       "<Figure size 432x288 with 1 Axes>"
      ]
     },
     "metadata": {},
     "output_type": "display_data"
    }
   ],
   "source": [
    "ax = sns.distplot(y_pred, kde=False)"
   ]
  }
 ],
 "metadata": {
  "kernelspec": {
   "display_name": "Python 3 (ipykernel)",
   "language": "python",
   "name": "python3"
  },
  "language_info": {
   "codemirror_mode": {
    "name": "ipython",
    "version": 3
   },
   "file_extension": ".py",
   "mimetype": "text/x-python",
   "name": "python",
   "nbconvert_exporter": "python",
   "pygments_lexer": "ipython3",
   "version": "3.8.10"
  }
 },
 "nbformat": 4,
 "nbformat_minor": 2
}
